{
 "cells": [
  {
   "cell_type": "code",
   "execution_count": 902,
   "metadata": {
    "ExecuteTime": {
     "end_time": "2022-06-13T00:41:49.336196Z",
     "start_time": "2022-06-13T00:41:49.329212Z"
    }
   },
   "outputs": [],
   "source": [
    "# User-defined libraries\n",
    "from utils.util_functions import *\n",
    "from rpeak_detection.detectors import *\n",
    "import os, psutil\n",
    "from scipy.signal import butter, lfilter, filtfilt\n",
    "from scipy import signal"
   ]
  },
  {
   "cell_type": "code",
   "execution_count": null,
   "metadata": {},
   "outputs": [],
   "source": [
    "# Load all open source clean ECG"
   ]
  },
  {
   "cell_type": "code",
   "execution_count": 7,
   "metadata": {
    "ExecuteTime": {
     "end_time": "2022-06-09T05:05:52.810773Z",
     "start_time": "2022-06-09T05:05:52.245066Z"
    }
   },
   "outputs": [],
   "source": [
    "ds1 =  [101, 106, 108, 109, 112, 114, 115, 116, 118, 119, 122, 124, 201, 203, 205, 207, 208, 209, 215, 220, 223, 230]\n",
    "ds2 = [100, 103, 105, 111, 113, 117, 121, 123, 200, 202, 210, 212, 213, 214, 219, 221, 222, 228, 231, 232, 233, 234]\n",
    "\n",
    "os.chdir('/home/cbn-gpu08/Docker/R/ECG/mitdb/signal/')\n",
    "file_names_signal = [str(w) + '.npy' for w in ds1]\n",
    "file_names_anno = [str(w) + '_annotation_original.csv' for w in ds1]\n",
    "\n",
    "ds1_signals = np.array([np.load(name) for name in file_names_signal])\n",
    "ds1_signals = [ds1_signals[i][:,0] for i in range(len(ds1_signals))]\n",
    "os.chdir('/home/cbn-gpu08/Docker/R/ECG/mitdb/annotation/')\n",
    "ds1_annos = np.array([pd.read_csv(name) for name in file_names_anno])\n",
    "# ds1_signals = [calc_lp(ds1_signals[i], 8, 2) for i in range(len(ds1_signals))]\n",
    "\n",
    "os.chdir('/home/cbn-gpu08/Docker/R/ECG/mitdb/signal/')\n",
    "file_names_signal = [str(w) + '.npy' for w in ds2]\n",
    "file_names_anno = [str(w) + '_annotation_original.csv' for w in ds2]\n",
    "\n",
    "ds2_signals = np.array([np.load(name) for name in file_names_signal])\n",
    "ds2_signals = [ds2_signals[i][:,0] for i in range(len(ds2_signals))]\n",
    "os.chdir('/home/cbn-gpu08/Docker/R/ECG/mitdb/annotation/')\n",
    "if len(file_names_anno) > 1:\n",
    "    ds2_annos = np.array([pd.read_csv(name) for name in file_names_anno])\n",
    "else:\n",
    "    ds2_annos = [pd.read_csv(file_names_anno[0]) ]\n",
    "# ds2_signals = [calc_lp(ds2_signals[i], 8, 2) for i in range(len(ds2_signals))]\n",
    "clear_output()\n",
    "\n",
    "os.chdir('/home/cbn-gpu08/Docker/R/ECG/qt/signal/')\n",
    "file_names_signal = glob.glob('*.npy')\n",
    "file_names_signal.sort()\n",
    "\n",
    "qt_signals = np.array([np.load(name) for name in file_names_signal])\n",
    "qt_signals = [qt_signals[i][:,0] for i in range(len(qt_signals))]\n",
    "os.chdir('/home/cbn-gpu08/Docker/R/ECG/qt/annotation/')\n",
    "file_names_anno = [f for f in os.listdir() if re.search('_original', f)]\n",
    "file_names_anno.sort()\n",
    "qt_annos = [pd.read_csv(name) for name in file_names_anno]\n",
    "# qt_signals = [calc_lp(qt_signals[i], 8, 2) for i in range(len(qt_signals))]\n",
    "\n",
    "clear_output()"
   ]
  },
  {
   "cell_type": "code",
   "execution_count": null,
   "metadata": {},
   "outputs": [],
   "source": [
    "# Create 3 seconds input by sampling rate"
   ]
  },
  {
   "cell_type": "code",
   "execution_count": 589,
   "metadata": {
    "ExecuteTime": {
     "end_time": "2022-06-09T07:23:00.724045Z",
     "start_time": "2022-06-09T07:23:00.701350Z"
    },
    "code_folding": [
     2
    ]
   },
   "outputs": [],
   "source": [
    "# This function creates and saves both of the 3 seconds signals and its FFT coefficients\n",
    "# The shape of the result is (the number of 3 seconds diviend) x (seconds * sampling rate)\n",
    "def create_input_noise_detection(file_name, sRate_from, sRate_to, seconds, path_load, path_save):\n",
    "\n",
    "    os.chdir(path_load)\n",
    "    df_signal = np.load(file_name)\n",
    "    df_signal = df_signal[:,0]\n",
    "\n",
    "    os.chdir(path_save)\n",
    "    rest = (len(df_signal) % int(sRate_from * seconds))\n",
    "    if rest != 0:\n",
    "        y = df_signal[:-rest]\n",
    "    else:\n",
    "        y = df_signal\n",
    "        \n",
    "    y = np.reshape(y, (int(len(y)/int(sRate_from * seconds)), int(sRate_from * seconds)))\n",
    "    y = signal.resample(y, int(sRate_to * seconds), axis = 1)\n",
    "    ma = y.max()\n",
    "    mi = y.min()\n",
    "    ran = np.abs(ma - mi)\n",
    "    y = y/ran\n",
    "    ffts = fft(y)\n",
    "    ffts = np.array(np.abs(ffts))\n",
    "    y = np.expand_dims(y, 1)\n",
    "    ffts = np.expand_dims(ffts, 1)\n",
    "\n",
    "    np.save(file_name[:-4] + '_signal_' + str(seconds) + 'seconds.npy', y)\n",
    "    np.save(file_name[:-4] + '_fft_' + str(seconds) + 'seconds.npy', ffts)\n",
    "    \n",
    "    return y, ffts"
   ]
  },
  {
   "cell_type": "code",
   "execution_count": 584,
   "metadata": {
    "ExecuteTime": {
     "end_time": "2022-06-09T07:22:43.331831Z",
     "start_time": "2022-06-09T07:22:43.269884Z"
    }
   },
   "outputs": [],
   "source": [
    "# An example to create 3 seconds deep learning input\n",
    "# 360Hz to 250Hz, 3 seconds input\n",
    "# The first path means the path for loading, and the second path is to save the 3s input\n",
    "x, y = create_input_noise_detection('201.npy', 360, 250, 3, \n",
    "                             '/home/cbn-gpu08/Docker/Python/ECG/pretraining_sets/mitdb',\n",
    "                             '/home/cbn-gpu08/Docker/Python/ECG/pretraining_sets/3s_inputs')\n",
    "\n",
    "os.chdir('/home/cbn-gpu08/Docker/Python/ECG/pretraining_sets/3s_inputs')\n",
    "x = np.load('201_signal_3seconds.npy')\n"
   ]
  },
  {
   "cell_type": "code",
   "execution_count": 590,
   "metadata": {
    "ExecuteTime": {
     "end_time": "2022-06-09T07:23:09.900769Z",
     "start_time": "2022-06-09T07:23:04.617065Z"
    }
   },
   "outputs": [],
   "source": [
    "# Create all MITBIH input for training pretrained model for noise classification\n",
    "os.chdir('/home/cbn-gpu08/Docker/Python/ECG/pretraining_sets/mitdb')\n",
    "file_names = os.listdir()\n",
    "mit_signals = []\n",
    "mit_ffts = []\n",
    "\n",
    "for name in file_names:\n",
    "    x, y = create_input_noise_detection(name, 360, 250, 3, \n",
    "                             '/home/cbn-gpu08/Docker/Python/ECG/pretraining_sets/mitdb',\n",
    "                             '/home/cbn-gpu08/Docker/Python/ECG/pretraining_sets/3s_inputs')\n",
    "    mit_signals.append(x)\n",
    "    mit_ffts.append(y)\n",
    "                             "
   ]
  },
  {
   "cell_type": "code",
   "execution_count": 591,
   "metadata": {
    "ExecuteTime": {
     "end_time": "2022-06-09T07:23:13.319051Z",
     "start_time": "2022-06-09T07:23:13.226541Z"
    }
   },
   "outputs": [],
   "source": [
    "# Reshaping the integrated signals\n",
    "mit_signals = np.array(mit_signals)\n",
    "mit_signals = np.reshape(mit_signals, (-1, 1, 750))\n",
    "\n",
    "mit_ffts = np.array(mit_ffts)\n",
    "mit_ffts = np.reshape(mit_ffts, (-1, 1, 750))"
   ]
  },
  {
   "cell_type": "code",
   "execution_count": 592,
   "metadata": {
    "ExecuteTime": {
     "end_time": "2022-06-09T07:23:18.540963Z",
     "start_time": "2022-06-09T07:23:18.513932Z"
    },
    "code_folding": [
     0
    ]
   },
   "outputs": [],
   "source": [
    "# Functino for generating fake noise signals\n",
    "# signal_array: original clean signal \n",
    "# num_z: the number of Gaussian noise signals to be created\n",
    "def create_fake_noise(signal_array, num_z):\n",
    "    \n",
    "    num1 = int(len(signal_array)/2)\n",
    "    num2 = int(len(signal_array)/4)\n",
    "    signal_array = signal_array[0:(num1+2*num2),:,:]\n",
    "    \n",
    "    fake_signals1 = []\n",
    "    fake_signals2 = []\n",
    "    highs = random.choices(range(6, 9), weights=[0.5, 0.25, 0.25],  k = num1)\n",
    "    lows = random.choices(range(4, 6), weights=[0.5, 0.5],  k = num1)\n",
    "    \n",
    "    for i in range(num1):\n",
    "        fake_signals1.append(calc_lp(signal_array[i,0,:], highs[i], lows[i]))\n",
    "    \n",
    "    for i in range(num1, num1+num2):\n",
    "        num = random.choice(range(5, 50))\n",
    "        y = calc_lp(signal_array[i,0,:], 2, 1)\n",
    "        z = y.copy()\n",
    "        for k in range(num):\n",
    "            step = random.choice(range(10, 100))\n",
    "            z = z+np.roll(y, step)\n",
    "        fake_signals2.append(normalize(z + calc_lp(signal_array[i,0,:], 7, 6)))\n",
    "    fake_signals = fake_signals1 + fake_signals2   \n",
    "    fake_signals = np.array(fake_signals).reshape(-1, 1, 750)\n",
    "    \n",
    "    z_signals = np.random.standard_normal(size=(num_z, 750))\n",
    "    y = np.concatenate([np.array([1,2,3,4],), np.arange(1, 150, 5)])\n",
    "    x = np.random.choice(y, num_z, replace=True)\n",
    "    scaled_signals = []\n",
    "    for i in range(num_z):\n",
    "        scaled_signals.append(z_signals[i]/x[i])\n",
    "\n",
    "    scaled_signals = np.array(scaled_signals)\n",
    "    z_signals = scaled_signals.reshape(-1, 1, 750)\n",
    "        \n",
    "    fake_signals = np.vstack((fake_signals, z_signals))\n",
    "    return fake_signals"
   ]
  },
  {
   "cell_type": "code",
   "execution_count": 593,
   "metadata": {
    "ExecuteTime": {
     "end_time": "2022-06-09T07:23:27.707864Z",
     "start_time": "2022-06-09T07:23:20.241543Z"
    }
   },
   "outputs": [],
   "source": [
    "# Create both of fake noise signal and its FFT coefficients\n",
    "noise_signals = create_fake_noise(mit_signals, 2000)\n",
    "noise_ffts = fft(noise_signals)\n",
    "noise_ffts = np.array(np.abs(noise_ffts))"
   ]
  },
  {
   "cell_type": "code",
   "execution_count": 594,
   "metadata": {
    "ExecuteTime": {
     "end_time": "2022-06-09T07:23:27.725750Z",
     "start_time": "2022-06-09T07:23:27.709553Z"
    },
    "code_folding": [
     0,
     24,
     31,
     44,
     49
    ]
   },
   "outputs": [],
   "source": [
    "# Functions for training and testing noise classification model\n",
    "def create_datasets(data, target, train_size, valid_pct=0.2, seed=None):\n",
    "\n",
    "    raw, fft = data\n",
    "    raw[np.isnan(raw)] = 0\n",
    "    fft[np.isnan(fft)] = 0\n",
    "    assert len(raw) == len(fft)\n",
    "    sz = train_size\n",
    "    idx = np.arange(sz)\n",
    "    trn_idx, val_idx = train_test_split(\n",
    "        idx, test_size=valid_pct, random_state=seed)\n",
    "    trn_ds = TensorDataset(\n",
    "        torch.tensor(raw[:sz][trn_idx]).float(), \n",
    "        torch.tensor(fft[:sz][trn_idx]).float(), \n",
    "        torch.tensor(target[:sz][trn_idx]).long())\n",
    "    val_ds = TensorDataset(\n",
    "        torch.tensor(raw[:sz][val_idx]).float(), \n",
    "        torch.tensor(fft[:sz][val_idx]).float(), \n",
    "        torch.tensor(target[:sz][val_idx]).long())\n",
    "    tst_ds = TensorDataset(\n",
    "        torch.tensor(raw[sz:]).float(), \n",
    "        torch.tensor(fft[sz:]).float(), \n",
    "        torch.tensor(target[sz:]).long())\n",
    "    return trn_ds, val_ds, tst_ds\n",
    "\n",
    "def create_loaders(data, bs=128, jobs=0):\n",
    "    trn_ds, val_ds, tst_ds = data\n",
    "    trn_dl = DataLoader(trn_ds, batch_size=bs, shuffle=True, num_workers=jobs)\n",
    "    val_dl = DataLoader(val_ds, batch_size=bs, shuffle=False, num_workers=jobs)\n",
    "    tst_dl = DataLoader(tst_ds, batch_size=bs, shuffle=False, num_workers=jobs)\n",
    "    return trn_dl, val_dl, tst_dl\n",
    "\n",
    "def create_testset(data, target):\n",
    "\n",
    "    raw, fft = data\n",
    "    raw[np.isnan(raw)] = 0\n",
    "    fft[np.isnan(fft)] = 0\n",
    "    assert len(raw) == len(fft)\n",
    "\n",
    "    tst_ds = TensorDataset(\n",
    "        torch.tensor(raw).float(), \n",
    "        torch.tensor(fft).float(), \n",
    "        torch.tensor(target).long())\n",
    "    return tst_ds\n",
    "\n",
    "def create_loaders_test(data, bs=128, jobs=0):\n",
    "    tst_ds = data\n",
    "    tst_dl = DataLoader(tst_ds, batch_size=bs, shuffle=False, num_workers=jobs)\n",
    "    return tst_dl\n",
    "\n",
    "def calc_lp(signal, low, high):\n",
    "    n = len(signal)\n",
    "    approxi = pywt.downcoef('a', signal, 'db4', level=low)\n",
    "    baseline = pywt.upcoef('a', approxi, 'db4', level=low, take=n)\n",
    "    \n",
    "    approxi = pywt.downcoef('a', signal, 'db4', level=high)\n",
    "    upper = pywt.upcoef('a', approxi, 'db4', level=high, take=n)\n",
    "    return upper - baseline"
   ]
  },
  {
   "cell_type": "code",
   "execution_count": 1088,
   "metadata": {
    "ExecuteTime": {
     "end_time": "2022-06-13T04:51:48.797822Z",
     "start_time": "2022-06-13T04:51:48.431286Z"
    }
   },
   "outputs": [],
   "source": [
    "sig = np.concatenate((mit_signals, noise_signals), axis = 0)\n",
    "sig = sig.reshape(-1, 1, 750)\n",
    "ffts = np.concatenate((mit_ffts, noise_ffts), axis = 0)\n",
    "anno = np.array(list(np.zeros(len(mit_signals))) + list(np.ones(len(noise_signals))))\n",
    "\n",
    "idx = list(range(sig.shape[0]))\n",
    "random.shuffle(idx)\n",
    "sig = sig[idx]\n",
    "ffts = ffts[idx]\n",
    "anno = anno[idx]"
   ]
  },
  {
   "cell_type": "code",
   "execution_count": 1090,
   "metadata": {
    "ExecuteTime": {
     "end_time": "2022-06-13T04:51:56.924046Z",
     "start_time": "2022-06-13T04:51:56.367820Z"
    }
   },
   "outputs": [],
   "source": [
    "train_dataset,_,_= create_datasets((sig,ffts), anno, 45000, 0.2, seed=2021)\n",
    "datasets = create_datasets((sig,ffts), anno, 45000, 0.2, seed=2021)\n",
    "trn_dl, val_dl, tst_dl = create_loaders(datasets, bs=128)\n",
    "device = torch.device('cuda:0' if torch.cuda.is_available() else 'cpu')"
   ]
  },
  {
   "cell_type": "code",
   "execution_count": 1091,
   "metadata": {
    "ExecuteTime": {
     "end_time": "2022-06-13T04:51:58.832505Z",
     "start_time": "2022-06-13T04:51:58.795672Z"
    },
    "code_folding": [
     1,
     15,
     36
    ]
   },
   "outputs": [],
   "source": [
    "# Networks\n",
    "class _SepConv1d(nn.Module):\n",
    "    \"\"\"A simple separable convolution implementation.\n",
    "    \n",
    "    The separable convlution is a method to reduce number of the parameters \n",
    "    in the deep learning network for slight decrease in predictions quality.\n",
    "    \"\"\"\n",
    "    def __init__(self, ni, no, kernel, stride, pad):\n",
    "        super().__init__()\n",
    "        self.depthwise = nn.Conv1d(ni, ni, kernel, stride, padding=pad, groups=ni)\n",
    "        self.pointwise = nn.Conv1d(ni, no, kernel_size=1)\n",
    "\n",
    "    def forward(self, x):\n",
    "        return self.pointwise(self.depthwise(x))\n",
    "\n",
    "class SepConv1d(nn.Module):\n",
    "    \"\"\"Implementes a 1-d convolution with 'batteries included'.\n",
    "    \n",
    "    The module adds (optionally) activation function and dropout layers right after\n",
    "    a separable convolution layer.\n",
    "    \"\"\"\n",
    "    def __init__(self, ni, no, kernel, stride, pad, drop=None,\n",
    "                 activ=lambda: nn.ReLU(inplace=True)):\n",
    "    \n",
    "        super().__init__()\n",
    "        assert drop is None or (0.0 < drop < 1.0)\n",
    "        layers = [_SepConv1d(ni, no, kernel, stride, pad)]\n",
    "        if activ:\n",
    "            layers.append(activ())\n",
    "        if drop is not None:\n",
    "            layers.append(nn.Dropout(drop))\n",
    "        self.layers = nn.Sequential(*layers)\n",
    "        \n",
    "    def forward(self, x): \n",
    "        return self.layers(x)\n",
    "\n",
    "class Flatten(nn.Module):\n",
    "    \"\"\"Converts N-dimensional tensor into 'flat' one.\"\"\"\n",
    "\n",
    "    def __init__(self, keep_batch_dim=True):\n",
    "        super().__init__()\n",
    "        self.keep_batch_dim = keep_batch_dim\n",
    "\n",
    "    def forward(self, x):\n",
    "        if self.keep_batch_dim:\n",
    "            return x.view(x.size(0), -1)\n",
    "        return x.view(-1)\n",
    "    \n",
    "class Classifier(nn.Module):\n",
    "    def __init__(self, raw_ni, fft_ni, no, drop=.5):\n",
    "        super().__init__()\n",
    "\n",
    "        self.raw = nn.Sequential(\n",
    "            SepConv1d(raw_ni,  32, 8, 2, 3, drop=drop),\n",
    "            SepConv1d(    32,  64, 8, 4, 2, drop=drop),\n",
    "            SepConv1d(    64, 128, 8, 4, 2, drop=drop),\n",
    "            SepConv1d(   128, 256, 8, 4, 2),\n",
    "            Flatten(),\n",
    "            nn.Dropout(drop), nn.Linear(1280, 64), nn.ReLU(inplace=True),\n",
    "            nn.Dropout(drop), nn.Linear( 64, 64), nn.ReLU(inplace=True))\n",
    "        \n",
    "        self.fft = nn.Sequential(\n",
    "            SepConv1d(fft_ni,  32, 8, 2, 4, drop=drop),\n",
    "            SepConv1d(    32,  64, 8, 2, 4, drop=drop),\n",
    "            SepConv1d(    64, 128, 8, 4, 4, drop=drop),\n",
    "            SepConv1d(   128, 128, 8, 4, 4, drop=drop),\n",
    "            SepConv1d(   128, 256, 8, 2, 3),\n",
    "            Flatten(),\n",
    "            nn.Dropout(drop), nn.Linear(1536, 64), nn.ReLU(inplace=True),\n",
    "            nn.Dropout(drop), nn.Linear( 64, 64), nn.ReLU(inplace=True))\n",
    "        \n",
    "        self.out = nn.Sequential(\n",
    "            nn.Linear(128, 64), nn.ReLU(inplace=True), nn.Linear(64, no))\n",
    "        \n",
    "    def forward(self, t_raw, t_fft):\n",
    "    \n",
    "        raw_out = self.raw(t_raw)\n",
    "        #print(\"raw_out\", raw_out.shape)\n",
    "        fft_out = self.fft(t_fft)\n",
    "        #print(\"fft_out\", fft_out.shape)\n",
    "        t_in = torch.cat([raw_out, fft_out], dim=1)\n",
    "        out = self.out(t_in)\n",
    "        return out"
   ]
  },
  {
   "cell_type": "code",
   "execution_count": 1093,
   "metadata": {
    "ExecuteTime": {
     "end_time": "2022-06-13T05:01:59.679297Z",
     "start_time": "2022-06-13T04:52:23.767767Z"
    }
   },
   "outputs": [
    {
     "name": "stdout",
     "output_type": "stream",
     "text": [
      "(array([0., 1.]), array([26444, 21833]))\n",
      "Epoch:   1. Loss: 0.5511. Acc.: 55.37%\n",
      "Epoch 1 best model saved with accuracy: 55.37%\n",
      "Epoch:   2. Loss: 0.2333. Acc.: 97.79%\n",
      "Epoch 2 best model saved with accuracy: 97.79%\n",
      "Epoch 3 best model saved with accuracy: 99.54%\n",
      "Epoch:   4. Loss: 0.0437. Acc.: 99.72%\n",
      "Epoch 4 best model saved with accuracy: 99.72%\n",
      "Epoch 5 best model saved with accuracy: 99.80%\n",
      "Epoch 6 best model saved with accuracy: 99.81%\n",
      "Epoch 7 best model saved with accuracy: 99.84%\n",
      "Epoch:   8. Loss: 0.0229. Acc.: 99.87%\n",
      "Epoch 8 best model saved with accuracy: 99.87%\n",
      "Epoch 11 best model saved with accuracy: 99.88%\n",
      "Epoch:  16. Loss: 0.0130. Acc.: 99.88%\n",
      "Epoch 18 best model saved with accuracy: 99.89%\n",
      "Epoch 21 best model saved with accuracy: 99.90%\n",
      "Epoch:  32. Loss: 0.0092. Acc.: 99.90%\n",
      "Epoch 34 best model saved with accuracy: 99.91%\n",
      "Epoch 37 best model saved with accuracy: 99.92%\n",
      "Epoch 48 best model saved with accuracy: 99.93%\n",
      "Epoch 57 best model saved with accuracy: 99.94%\n",
      "Epoch:  64. Loss: 0.0061. Acc.: 99.92%\n",
      "Early stopping on epoch  72\n",
      "Done!\n"
     ]
    }
   ],
   "source": [
    "print(np.unique(anno, return_counts = True))\n",
    "trn_sz = 45000\n",
    "\n",
    "os.chdir('/home/cbn-gpu08/Docker/R/ECG/mitdb/models/')\n",
    "raw_feat = sig.shape[1]\n",
    "fft_feat = ffts.shape[1]\n",
    "\n",
    "lr = 0.0001\n",
    "n_epochs = 500\n",
    "iterations_per_epoch = len(trn_dl)\n",
    "num_classes = 2\n",
    "best_acc = 0\n",
    "patience, trials = 15, 0\n",
    "base = 1\n",
    "step = 2\n",
    "loss_history = []\n",
    "acc_history = []\n",
    "\n",
    "model = Classifier(raw_feat, fft_feat, num_classes).to(device)\n",
    "criterion = nn.CrossEntropyLoss(reduction='sum')\n",
    "opt = optim.Adam(model.parameters(), lr=lr)\n",
    "\n",
    "\n",
    "for epoch in range(1, n_epochs + 1):\n",
    "\n",
    "    model.train()\n",
    "    epoch_loss = 0\n",
    "    for i, batch in enumerate(trn_dl):\n",
    "        x_raw, x_fft, y_batch = [t.to(device) for t in batch]\n",
    "        opt.zero_grad()\n",
    "        out = model(x_raw, x_fft)\n",
    "        loss = criterion(out, y_batch)\n",
    "        epoch_loss += loss.item()\n",
    "        loss.backward()\n",
    "        opt.step()\n",
    "\n",
    "    epoch_loss /= trn_sz\n",
    "    loss_history.append(epoch_loss)\n",
    "\n",
    "    model.eval()\n",
    "    correct, total = 0, 0\n",
    "    for batch in val_dl:\n",
    "        x_raw, x_fft, y_batch = [t.to(device) for t in batch]\n",
    "        out = model(x_raw, x_fft)\n",
    "        preds = F.log_softmax(out, dim=1).argmax(dim=1)\n",
    "        total += y_batch.size(0)\n",
    "        correct += (preds == y_batch).sum().item()\n",
    "\n",
    "    acc = correct / total\n",
    "    acc_history.append(acc)\n",
    "\n",
    "    if epoch % base == 0:\n",
    "        print(f'Epoch: {epoch:3d}. Loss: {epoch_loss:.4f}. Acc.: {acc:2.2%}')\n",
    "        base *= step\n",
    "\n",
    "    if acc > best_acc:\n",
    "        trials = 0\n",
    "        best_acc = acc\n",
    "        torch.save(model.state_dict(), 'trying_0614')\n",
    "        print(f'Epoch {epoch} best model saved with accuracy: {best_acc:2.2%}')\n",
    "    else:\n",
    "        trials += 1\n",
    "        if trials >= patience:\n",
    "            print(f'Early stopping on epoch  {epoch}')\n",
    "            break\n",
    "\n",
    "print('Done!')"
   ]
  },
  {
   "cell_type": "code",
   "execution_count": null,
   "metadata": {},
   "outputs": [],
   "source": []
  },
  {
   "cell_type": "code",
   "execution_count": null,
   "metadata": {},
   "outputs": [],
   "source": []
  },
  {
   "cell_type": "code",
   "execution_count": null,
   "metadata": {},
   "outputs": [],
   "source": []
  },
  {
   "cell_type": "code",
   "execution_count": null,
   "metadata": {},
   "outputs": [],
   "source": []
  },
  {
   "cell_type": "code",
   "execution_count": null,
   "metadata": {},
   "outputs": [],
   "source": []
  },
  {
   "cell_type": "code",
   "execution_count": null,
   "metadata": {},
   "outputs": [],
   "source": []
  },
  {
   "cell_type": "code",
   "execution_count": null,
   "metadata": {},
   "outputs": [],
   "source": []
  },
  {
   "cell_type": "code",
   "execution_count": null,
   "metadata": {},
   "outputs": [],
   "source": []
  },
  {
   "cell_type": "code",
   "execution_count": null,
   "metadata": {},
   "outputs": [],
   "source": [
    "# Create test inputs for noise classification model\n",
    "# Here we should make the same shape of training examples for ATsens signals"
   ]
  },
  {
   "cell_type": "code",
   "execution_count": 1095,
   "metadata": {
    "ExecuteTime": {
     "end_time": "2022-06-13T05:02:03.352677Z",
     "start_time": "2022-06-13T05:02:03.333828Z"
    },
    "code_folding": []
   },
   "outputs": [],
   "source": [
    "def create_input_noise_detection_at(file_name, sRate_from, sRate_to, seconds, path_load, path_save):\n",
    "\n",
    "    os.chdir(path_load)\n",
    "    df_signal = np.load(file_name)\n",
    "    df_signal = df_signal[:,0]\n",
    "\n",
    "    os.chdir(path_save)\n",
    "    rest = (len(df_signal) % int(sRate_from * seconds))\n",
    "    if rest != 0:\n",
    "        y = df_signal[:-rest]\n",
    "    else:\n",
    "        y = df_signal\n",
    "        \n",
    "    y = np.reshape(y, (int(len(y)/int(sRate_from * seconds)), int(sRate_from * seconds)))\n",
    "    y = signal.resample(y, int(sRate_to * seconds), axis = 1)\n",
    "\n",
    "    ffts = fft(y)\n",
    "    ffts = np.array(np.abs(ffts))\n",
    "    y = np.expand_dims(y, 1)\n",
    "    ffts = np.expand_dims(ffts, 1)\n",
    "\n",
    "    np.save(file_name[:-4] + '_signal_' + str(seconds) + 'seconds.npy', y)\n",
    "    np.save(file_name[:-4] + '_fft_' + str(seconds) + 'seconds.npy', ffts)\n",
    "    \n",
    "    return y, ffts"
   ]
  },
  {
   "cell_type": "code",
   "execution_count": 1096,
   "metadata": {
    "ExecuteTime": {
     "end_time": "2022-06-13T05:02:35.544810Z",
     "start_time": "2022-06-13T05:02:05.839772Z"
    }
   },
   "outputs": [],
   "source": [
    "# Create 3 seconds input\n",
    "test, test_fft = create_input_noise_detection_at('AMC4.npy', 300, 250, 3, \n",
    "                             '/home/cbn-gpu08/Docker/Python/ECG/data',\n",
    "                             '/home/cbn-gpu08/Docker/Python/ECG/pretraining_sets/')\n",
    "\n",
    "testset = create_testset((test, test_fft), np.zeros(len(test)))\n",
    "tst_dl = create_loaders_test(testset, bs=128, jobs=0)"
   ]
  },
  {
   "cell_type": "code",
   "execution_count": 1129,
   "metadata": {
    "ExecuteTime": {
     "end_time": "2022-06-13T05:03:51.551599Z",
     "start_time": "2022-06-13T05:03:29.900361Z"
    }
   },
   "outputs": [],
   "source": [
    "# Prediction\n",
    "os.chdir('/home/cbn-gpu08/Docker/R/ECG/mitdb/models/')\n",
    "model.load_state_dict(torch.load('trying_0613'))\n",
    "model.eval()\n",
    "pred = []\n",
    "correct, total = 0, 0\n",
    "true = []\n",
    "test_signal = []\n",
    "for batch in tst_dl:\n",
    "    x_raw, x_fft, y_batch = [t.to(device) for t in batch]\n",
    "    out = model(x_raw, x_fft)\n",
    "    preds = F.log_softmax(out, dim=1).argmax(dim=1)\n",
    "    pred.append(preds.tolist())\n",
    "    true.append(y_batch.tolist())\n",
    "    test_signal.append(x_raw.tolist())\n",
    "    total += y_batch.size(0)\n",
    "    correct += (preds == y_batch).sum().item()"
   ]
  },
  {
   "cell_type": "code",
   "execution_count": 1130,
   "metadata": {
    "ExecuteTime": {
     "end_time": "2022-06-13T05:03:51.609335Z",
     "start_time": "2022-06-13T05:03:51.553219Z"
    }
   },
   "outputs": [],
   "source": [
    "pred = list(chain.from_iterable(pred))\n",
    "true = list(chain.from_iterable(true))\n",
    "test_signal = list(chain.from_iterable(test_signal))\n",
    "test_signal = list(chain.from_iterable(test_signal))"
   ]
  },
  {
   "cell_type": "code",
   "execution_count": 1151,
   "metadata": {
    "ExecuteTime": {
     "end_time": "2022-06-13T05:25:41.777653Z",
     "start_time": "2022-06-13T05:25:41.589694Z"
    }
   },
   "outputs": [
    {
     "name": "stdout",
     "output_type": "stream",
     "text": [
      "True: Normal\n",
      "Pred: Normal\n"
     ]
    },
    {
     "data": {
      "text/plain": [
       "[<matplotlib.lines.Line2D at 0x7faf62f870f0>]"
      ]
     },
     "execution_count": 1151,
     "metadata": {},
     "output_type": "execute_result"
    },
    {
     "data": {
      "image/png": "[encoded data removed]",
      "text/plain": [
       "<Figure size 1008x360 with 1 Axes>"
      ]
     },
     "metadata": {},
     "output_type": "display_data"
    }
   ],
   "source": [
    "i = random.choice(np.where(np.array(pred) == 0)[0])\n",
    "\n",
    "if true[i] == 1:\n",
    "    print('True: ' + 'Noise')\n",
    "else:\n",
    "    print('True: ' +'Normal')\n",
    "    \n",
    "if pred[i] == 1:\n",
    "    print('Pred: ' +'Noise')\n",
    "else:\n",
    "    print('Pred: ' +'Normal')\n",
    "    \n",
    "xs = range(len(test_signal[i]))\n",
    "ys = test_signal[i]\n",
    "\n",
    "plt.figure(figsize=(14, 5))\n",
    "plt.plot(xs, ys, color = 'blue', linewidth = 1)\n"
   ]
  },
  {
   "cell_type": "code",
   "execution_count": 832,
   "metadata": {
    "ExecuteTime": {
     "end_time": "2022-06-13T00:32:13.226389Z",
     "start_time": "2022-06-13T00:32:13.206448Z"
    },
    "code_folding": [
     0
    ]
   },
   "outputs": [],
   "source": []
  },
  {
   "cell_type": "code",
   "execution_count": 903,
   "metadata": {
    "ExecuteTime": {
     "end_time": "2022-06-13T00:42:27.537371Z",
     "start_time": "2022-06-13T00:41:53.040348Z"
    }
   },
   "outputs": [],
   "source": []
  },
  {
   "cell_type": "code",
   "execution_count": 904,
   "metadata": {
    "ExecuteTime": {
     "end_time": "2022-06-13T00:42:28.435842Z",
     "start_time": "2022-06-13T00:42:27.539542Z"
    }
   },
   "outputs": [],
   "source": []
  },
  {
   "cell_type": "code",
   "execution_count": 905,
   "metadata": {
    "ExecuteTime": {
     "end_time": "2022-06-13T00:42:28.439694Z",
     "start_time": "2022-06-13T00:42:28.437423Z"
    }
   },
   "outputs": [],
   "source": []
  },
  {
   "cell_type": "code",
   "execution_count": null,
   "metadata": {},
   "outputs": [],
   "source": []
  },
  {
   "cell_type": "code",
   "execution_count": null,
   "metadata": {},
   "outputs": [],
   "source": []
  },
  {
   "cell_type": "code",
   "execution_count": null,
   "metadata": {},
   "outputs": [],
   "source": []
  },
  {
   "cell_type": "code",
   "execution_count": null,
   "metadata": {},
   "outputs": [],
   "source": []
  },
  {
   "cell_type": "code",
   "execution_count": null,
   "metadata": {},
   "outputs": [],
   "source": []
  },
  {
   "cell_type": "code",
   "execution_count": null,
   "metadata": {},
   "outputs": [],
   "source": []
  },
  {
   "cell_type": "code",
   "execution_count": null,
   "metadata": {},
   "outputs": [],
   "source": []
  },
  {
   "cell_type": "code",
   "execution_count": null,
   "metadata": {},
   "outputs": [],
   "source": []
  },
  {
   "cell_type": "code",
   "execution_count": null,
   "metadata": {},
   "outputs": [],
   "source": []
  },
  {
   "cell_type": "code",
   "execution_count": null,
   "metadata": {},
   "outputs": [],
   "source": []
  },
  {
   "cell_type": "code",
   "execution_count": null,
   "metadata": {},
   "outputs": [],
   "source": []
  },
  {
   "cell_type": "code",
   "execution_count": null,
   "metadata": {},
   "outputs": [],
   "source": []
  },
  {
   "cell_type": "code",
   "execution_count": null,
   "metadata": {},
   "outputs": [],
   "source": []
  },
  {
   "cell_type": "code",
   "execution_count": null,
   "metadata": {},
   "outputs": [],
   "source": []
  },
  {
   "cell_type": "code",
   "execution_count": null,
   "metadata": {},
   "outputs": [],
   "source": []
  },
  {
   "cell_type": "code",
   "execution_count": null,
   "metadata": {},
   "outputs": [],
   "source": []
  },
  {
   "cell_type": "code",
   "execution_count": null,
   "metadata": {},
   "outputs": [],
   "source": []
  },
  {
   "cell_type": "code",
   "execution_count": null,
   "metadata": {},
   "outputs": [],
   "source": []
  },
  {
   "cell_type": "code",
   "execution_count": null,
   "metadata": {},
   "outputs": [],
   "source": []
  },
  {
   "cell_type": "code",
   "execution_count": null,
   "metadata": {},
   "outputs": [],
   "source": []
  },
  {
   "cell_type": "code",
   "execution_count": null,
   "metadata": {},
   "outputs": [],
   "source": []
  },
  {
   "cell_type": "code",
   "execution_count": null,
   "metadata": {},
   "outputs": [],
   "source": []
  },
  {
   "cell_type": "code",
   "execution_count": null,
   "metadata": {},
   "outputs": [],
   "source": []
  },
  {
   "cell_type": "code",
   "execution_count": null,
   "metadata": {},
   "outputs": [],
   "source": []
  },
  {
   "cell_type": "code",
   "execution_count": null,
   "metadata": {},
   "outputs": [],
   "source": []
  },
  {
   "cell_type": "code",
   "execution_count": null,
   "metadata": {},
   "outputs": [],
   "source": []
  },
  {
   "cell_type": "code",
   "execution_count": null,
   "metadata": {},
   "outputs": [],
   "source": []
  },
  {
   "cell_type": "code",
   "execution_count": null,
   "metadata": {},
   "outputs": [],
   "source": []
  },
  {
   "cell_type": "code",
   "execution_count": null,
   "metadata": {},
   "outputs": [],
   "source": []
  },
  {
   "cell_type": "code",
   "execution_count": null,
   "metadata": {},
   "outputs": [],
   "source": []
  },
  {
   "cell_type": "code",
   "execution_count": null,
   "metadata": {},
   "outputs": [],
   "source": []
  },
  {
   "cell_type": "code",
   "execution_count": null,
   "metadata": {},
   "outputs": [],
   "source": []
  }
 ],
 "metadata": {
  "kernelspec": {
   "display_name": "Python 3",
   "language": "python",
   "name": "python3"
  },
  "language_info": {
   "codemirror_mode": {
    "name": "ipython",
    "version": 3
   },
   "file_extension": ".py",
   "mimetype": "text/x-python",
   "name": "python",
   "nbconvert_exporter": "python",
   "pygments_lexer": "ipython3",
   "version": "3.6.9"
  }
 },
 "nbformat": 4,
 "nbformat_minor": 4
}
