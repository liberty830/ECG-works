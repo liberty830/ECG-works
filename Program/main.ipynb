{
 "cells": [
  {
   "cell_type": "code",
   "execution_count": 1,
   "metadata": {
    "ExecuteTime": {
     "end_time": "2022-06-13T06:02:51.246471Z",
     "start_time": "2022-06-13T06:02:49.463703Z"
    },
    "code_folding": [
     13,
     36,
     64
    ]
   },
   "outputs": [],
   "source": [
    "import noise_removal as nr\n",
    "import utils as ut\n",
    "import pandas as pd\n",
    "import numpy as np\n",
    "from numba import jit\n",
    "import os\n",
    "import random\n",
    "import matplotlib.pyplot as plt\n",
    "import pywt\n",
    "from itertools import chain\n",
    "import math\n",
    "plt.style.use('seaborn-whitegrid')\n",
    "from scipy.signal import butter, lfilter, filtfilt\n",
    "def plot_rpeak_window(df_signal, anno_est, start, size, option1, option2):\n",
    "    \n",
    "    if option1 == 'random':\n",
    "        start = random.randrange(len(df_signal))\n",
    "    print(start)\n",
    "    if option2 == 'filtered':\n",
    "        df_signal = filtered_signal\n",
    "    \n",
    "    xs = range(start - size, start + size)\n",
    "    ys = df_signal[xs] #- np.nanmedian(df_signal[xs])\n",
    "    values = ['0', '1', '2', '3','4','5', '6', '7', '8', '9', '10'] \n",
    "    positions = range(start-3000, start+300, 300)\n",
    "    \n",
    "    markers = anno_est[(anno_est['pos'] > xs[0]) & (anno_est['pos'] < xs[len(xs)-1])]['pos']\n",
    "    markers = np.asarray(markers) - start + size\n",
    "    plt.rcParams[\"figure.figsize\"] = (14,8)\n",
    "    plt.figure(dpi=150)\n",
    "\n",
    "    plt.plot(xs, ys, marker = 'o', color = 'blue', markevery = markers, markerfacecolor='lime', markersize = 8,\n",
    "            linewidth = 1)\n",
    "   \n",
    "    plt.show()\n",
    "    \n",
    "def plot_rpeak_window(df_signal, anno_est, start, size, option1, option2):\n",
    "    \n",
    "    if option1 == 'random':\n",
    "        start = random.randrange(len(df_signal))\n",
    "    print(start)\n",
    "    if option2 == 'filtered':\n",
    "        df_signal = filtered_signal\n",
    "    \n",
    "    \n",
    "    xs = range(start - size, start + size)\n",
    "    ys = df_signal[xs] #- np.nanmedian(df_signal[xs])\n",
    "    positions = range(start-3000, start+300, 300)\n",
    "   \n",
    "    markers = anno_est[(anno_est['pos'] > xs[0]) & (anno_est['pos'] < xs[len(xs)-1])]['pos']\n",
    "    markers2 = markers.copy()\n",
    "    ys2 = df_signal[markers2]\n",
    "    targets = anno_est[(anno_est['pos'] > xs[0]) & (anno_est['pos'] < xs[len(xs)-1])]['target']\n",
    "    markers = np.asarray(markers) - start + size\n",
    "    \n",
    "    plt.rcParams[\"figure.figsize\"] = (14,8)\n",
    "    plt.figure(dpi=150)\n",
    "\n",
    "    colors = {'N':'lime', 'S':'purple', 'V':'red'}\n",
    "    plt.plot(xs, ys, color = 'blue', linewidth = 1)\n",
    "    plt.scatter(markers2, ys2, c=targets.map(colors), s = 80)\n",
    "   \n",
    "    plt.show()\n",
    "    \n",
    "def calc_lp(signal, low, high):\n",
    "    n = len(signal)\n",
    "    approxi = pywt.downcoef('a', signal, 'db4', level=low)\n",
    "    baseline = pywt.upcoef('a', approxi, 'db4', level=low, take=n)\n",
    "    \n",
    "    approxi = pywt.downcoef('a', signal, 'db4', level=high)\n",
    "    upper = pywt.upcoef('a', approxi, 'db4', level=high, take=n)\n",
    "    return upper - baseline"
   ]
  },
  {
   "cell_type": "code",
   "execution_count": 2,
   "metadata": {
    "ExecuteTime": {
     "end_time": "2022-06-13T06:03:19.396257Z",
     "start_time": "2022-06-13T06:02:51.248111Z"
    }
   },
   "outputs": [
    {
     "name": "stdout",
     "output_type": "stream",
     "text": [
      "Processing wfdb file to numpy array\n",
      "Saving deep learning inputs to directory\n",
      "56\n",
      "4904\n",
      "4805799936\n",
      "Augmentation Start!\n",
      "4802420736\n",
      "(array([0., 1.]), array([ 642, 2481]))\n",
      "Fine-tuning Start!\n",
      "4926173184\n",
      "56\n",
      "4904\n",
      "Load_model!\n",
      "4926173184\n",
      "Epoch:   1. Loss: 0.1885. Acc.: 99.82%\n",
      "Epoch 1 best model saved with accuracy: 99.82%\n",
      "Epoch:   2. Loss: 0.1335. Acc.: 99.82%\n",
      "Epoch:   4. Loss: 0.1084. Acc.: 99.82%\n",
      "Epoch 5 best model saved with accuracy: 100.00%\n",
      "Epoch:   8. Loss: 0.0648. Acc.: 100.00%\n",
      "Early stopping on epoch 15\n",
      "Done!\n",
      "Prediction Start!\n",
      "1196760128\n",
      "1196760128\n",
      "R_peadk detection Start\n",
      "Start First Round!\n",
      "Start Second Round!\n"
     ]
    },
    {
     "name": "stderr",
     "output_type": "stream",
     "text": [
      "/home/cbn-gpu08/Docker/Python/ECG/noise_removal/noise_removals.py:1159: SettingWithCopyWarning: \n",
      "A value is trying to be set on a copy of a slice from a DataFrame\n",
      "\n",
      "See the caveats in the documentation: https://pandas.pydata.org/pandas-docs/stable/user_guide/indexing.html#returning-a-view-versus-a-copy\n",
      "  self.temp['rr_pre'][0] = self.sRate\n",
      "/home/cbn-gpu08/Docker/Python/ECG/noise_removal/noise_removals.py:1161: SettingWithCopyWarning: \n",
      "A value is trying to be set on a copy of a slice from a DataFrame\n",
      "\n",
      "See the caveats in the documentation: https://pandas.pydata.org/pandas-docs/stable/user_guide/indexing.html#returning-a-view-versus-a-copy\n",
      "  self.temp['rr_post'][len(self.temp)-1] = self.sRate\n"
     ]
    },
    {
     "name": "stdout",
     "output_type": "stream",
     "text": [
      "Creating Output\n"
     ]
    }
   ],
   "source": [
    "X = nr.QRS_to_Noise('C600000389', sRate=250, num_threads=29, \n",
    "                path_raw='/home/cbn-gpu08/Docker/R/ECG/atsense/original',\n",
    "                path_input='/home/cbn-gpu08/Docker/Python/ECG/dl_inputs',\n",
    "                path_model='/home/cbn-gpu08/Docker/Python/ECG/models')\n",
    "\n",
    "X.wfdb_to_npy()\n",
    "\n",
    "X.save_dl_inputs('C600000389.npy')\n",
    "\n",
    "X.noise_removal('light')\n",
    "\n",
    "X.qrs_detection()\n",
    "\n",
    "anno, sig, summary, anno_noise_removed, sig_noise_removed, clean, noise = X.create_output()"
   ]
  },
  {
   "cell_type": "code",
   "execution_count": 152,
   "metadata": {
    "ExecuteTime": {
     "end_time": "2022-06-14T06:32:49.868684Z",
     "start_time": "2022-06-14T06:32:15.179370Z"
    }
   },
   "outputs": [
    {
     "name": "stdout",
     "output_type": "stream",
     "text": [
      "Processing wfdb file to numpy array\n",
      "Saving deep learning inputs to directory\n",
      "56\n",
      "4904\n",
      "22473048064\n",
      "Augmentation Start!\n",
      "22473048064\n",
      "(array([0., 1.]), array([ 311, 2232]))\n",
      "Fine-tuning Start!\n",
      "22468923392\n",
      "56\n",
      "4904\n",
      "Load_model!\n",
      "22468923392\n",
      "Epoch:   1. Loss: 0.8350. Acc.: 73.80%\n",
      "Epoch 1 best model saved with accuracy: 73.80%\n",
      "Epoch:   2. Loss: 0.5371. Acc.: 75.33%\n",
      "Epoch 2 best model saved with accuracy: 75.33%\n",
      "Epoch 3 best model saved with accuracy: 75.98%\n",
      "Epoch:   4. Loss: 0.4193. Acc.: 78.60%\n",
      "Epoch 4 best model saved with accuracy: 78.60%\n",
      "Epoch 5 best model saved with accuracy: 90.61%\n",
      "Epoch 6 best model saved with accuracy: 90.83%\n",
      "Epoch:   8. Loss: 0.2584. Acc.: 91.92%\n",
      "Epoch 8 best model saved with accuracy: 91.92%\n",
      "Epoch 9 best model saved with accuracy: 93.89%\n",
      "Epoch 10 best model saved with accuracy: 94.10%\n",
      "Epoch 11 best model saved with accuracy: 94.76%\n",
      "Epoch 12 best model saved with accuracy: 96.51%\n",
      "Epoch 13 best model saved with accuracy: 97.60%\n",
      "Epoch:  16. Loss: 0.1582. Acc.: 97.82%\n",
      "Epoch 16 best model saved with accuracy: 97.82%\n",
      "Epoch 20 best model saved with accuracy: 98.47%\n",
      "Epoch 21 best model saved with accuracy: 99.13%\n",
      "Epoch 24 best model saved with accuracy: 99.34%\n",
      "Epoch 25 best model saved with accuracy: 99.56%\n",
      "Epoch 28 best model saved with accuracy: 99.78%\n",
      "Epoch:  32. Loss: 0.1166. Acc.: 99.56%\n",
      "Early stopping on epoch 38\n",
      "Done!\n",
      "Prediction Start!\n",
      "1196762528\n",
      "1196762528\n",
      "R_peadk detection Start\n",
      "Start First Round!\n",
      "Start Second Round!\n"
     ]
    },
    {
     "name": "stderr",
     "output_type": "stream",
     "text": [
      "/home/cbn-gpu08/Docker/Python/ECG/noise_removal/noise_removals.py:1159: SettingWithCopyWarning: \n",
      "A value is trying to be set on a copy of a slice from a DataFrame\n",
      "\n",
      "See the caveats in the documentation: https://pandas.pydata.org/pandas-docs/stable/user_guide/indexing.html#returning-a-view-versus-a-copy\n",
      "  self.temp['rr_pre'][0] = self.sRate\n",
      "/home/cbn-gpu08/Docker/Python/ECG/noise_removal/noise_removals.py:1161: SettingWithCopyWarning: \n",
      "A value is trying to be set on a copy of a slice from a DataFrame\n",
      "\n",
      "See the caveats in the documentation: https://pandas.pydata.org/pandas-docs/stable/user_guide/indexing.html#returning-a-view-versus-a-copy\n",
      "  self.temp['rr_post'][len(self.temp)-1] = self.sRate\n"
     ]
    },
    {
     "name": "stdout",
     "output_type": "stream",
     "text": [
      "Creating Output\n"
     ]
    }
   ],
   "source": [
    "X = nr.QRS_to_Noise('C600000389', sRate=300, num_threads=29, \n",
    "                path_raw='/home/cbn-gpu08/Docker/R/ECG/atsense/original',\n",
    "                path_input='/home/cbn-gpu08/Docker/Python/ECG/dl_inputs',\n",
    "                path_model='/home/cbn-gpu08/Docker/Python/ECG/models')\n",
    "\n",
    "X.wfdb_to_npy()\n",
    "\n",
    "X.save_dl_inputs('C600000389.npy')\n",
    "\n",
    "X.noise_removal('light')\n",
    "\n",
    "X.qrs_detection()\n",
    "\n",
    "anno, sig, summary, anno_noise_removed, sig_noise_removed, clean, noise = X.create_output()"
   ]
  },
  {
   "cell_type": "code",
   "execution_count": 153,
   "metadata": {
    "ExecuteTime": {
     "end_time": "2022-06-14T06:32:50.395754Z",
     "start_time": "2022-06-14T06:32:49.870280Z"
    }
   },
   "outputs": [
    {
     "data": {
      "text/html": [
       "<div>\n",
       "<style scoped>\n",
       "    .dataframe tbody tr th:only-of-type {\n",
       "        vertical-align: middle;\n",
       "    }\n",
       "\n",
       "    .dataframe tbody tr th {\n",
       "        vertical-align: top;\n",
       "    }\n",
       "\n",
       "    .dataframe thead th {\n",
       "        text-align: right;\n",
       "    }\n",
       "</style>\n",
       "<table border=\"1\" class=\"dataframe\">\n",
       "  <thead>\n",
       "    <tr style=\"text-align: right;\">\n",
       "      <th></th>\n",
       "      <th>noise_ratio(%)</th>\n",
       "      <th>num_QRS</th>\n",
       "      <th>mean</th>\n",
       "      <th>p_50</th>\n",
       "      <th>max</th>\n",
       "      <th>sd</th>\n",
       "      <th>num_wide_rr</th>\n",
       "      <th>num_narrow_rr</th>\n",
       "    </tr>\n",
       "  </thead>\n",
       "  <tbody>\n",
       "    <tr>\n",
       "      <th>0</th>\n",
       "      <td>88.52</td>\n",
       "      <td>92953</td>\n",
       "      <td>184.77</td>\n",
       "      <td>185.0</td>\n",
       "      <td>3715</td>\n",
       "      <td>63.62</td>\n",
       "      <td>130</td>\n",
       "      <td>0</td>\n",
       "    </tr>\n",
       "  </tbody>\n",
       "</table>\n",
       "</div>"
      ],
      "text/plain": [
       "   noise_ratio(%)  num_QRS    mean   p_50   max     sd  num_wide_rr  \\\n",
       "0           88.52    92953  184.77  185.0  3715  63.62          130   \n",
       "\n",
       "   num_narrow_rr  \n",
       "0              0  "
      ]
     },
     "execution_count": 153,
     "metadata": {},
     "output_type": "execute_result"
    }
   ],
   "source": [
    "an = anno_noise_removed.copy()\n",
    "b, a = butter(2, [8/150, 20/150], btype='band')\n",
    "filtered_ecg = filtfilt(b, a, sig_noise_removed)\n",
    "filtered_ecg = filtered_ecg *filtered_ecg \n",
    "b, a = butter(1, [5/150, 15/150], btype='band')\n",
    "filtered_ecg2 = filtfilt(b, a, sig_noise_removed)\n",
    "diff = np.diff(filtered_ecg2) \n",
    "diff = np.append(diff[0], diff)\n",
    "squared = diff*diff\n",
    "center = 170000\n",
    "summary"
   ]
  },
  {
   "cell_type": "code",
   "execution_count": 154,
   "metadata": {
    "ExecuteTime": {
     "end_time": "2022-06-14T06:32:50.399956Z",
     "start_time": "2022-06-14T06:32:50.397602Z"
    }
   },
   "outputs": [],
   "source": [
    "center =0\n",
    "r = 1500"
   ]
  },
  {
   "cell_type": "code",
   "execution_count": 186,
   "metadata": {
    "ExecuteTime": {
     "end_time": "2022-06-14T06:35:03.476918Z",
     "start_time": "2022-06-14T06:35:03.229723Z"
    }
   },
   "outputs": [
    {
     "name": "stdout",
     "output_type": "stream",
     "text": [
      "9902933\n"
     ]
    },
    {
     "data": {
      "image/png": "[encoded data removed]",
      "text/plain": [
       "<Figure size 2100x1200 with 1 Axes>"
      ]
     },
     "metadata": {},
     "output_type": "display_data"
    }
   ],
   "source": [
    "center = random.choice(np.array(an.pos))\n",
    "plot_rpeak_window(sig_noise_removed, an, center, r, 'a', 'a')\n",
    "center = center + 5000"
   ]
  },
  {
   "cell_type": "code",
   "execution_count": 199,
   "metadata": {
    "ExecuteTime": {
     "end_time": "2022-06-14T06:37:21.803375Z",
     "start_time": "2022-06-14T06:37:21.538283Z"
    }
   },
   "outputs": [
    {
     "data": {
      "text/plain": [
       "[<matplotlib.lines.Line2D at 0x7f017c544278>]"
      ]
     },
     "execution_count": 199,
     "metadata": {},
     "output_type": "execute_result"
    },
    {
     "data": {
      "image/png": "[encoded data removed]",
      "text/plain": [
       "<Figure size 1008x576 with 1 Axes>"
      ]
     },
     "metadata": {},
     "output_type": "display_data"
    },
    {
     "data": {
      "image/png": "[encoded data removed]",
      "text/plain": [
       "<Figure size 1008x576 with 1 Axes>"
      ]
     },
     "metadata": {},
     "output_type": "display_data"
    }
   ],
   "source": [
    "plt.rcParams[\"figure.figsize\"] = (14,8)\n",
    "plt.figure() \n",
    "x = random.choice(range(len(clean)))\n",
    "plt.plot(clean[x, :])\n",
    "\n",
    "plt.figure()\n",
    "x = random.choice(range(len(noise)))\n",
    "plt.plot(noise[x, :])\n"
   ]
  },
  {
   "cell_type": "code",
   "execution_count": 49,
   "metadata": {
    "ExecuteTime": {
     "end_time": "2022-06-13T06:07:41.724479Z",
     "start_time": "2022-06-13T06:07:41.703474Z"
    }
   },
   "outputs": [
    {
     "data": {
      "text/html": [
       "<div>\n",
       "<style scoped>\n",
       "    .dataframe tbody tr th:only-of-type {\n",
       "        vertical-align: middle;\n",
       "    }\n",
       "\n",
       "    .dataframe tbody tr th {\n",
       "        vertical-align: top;\n",
       "    }\n",
       "\n",
       "    .dataframe thead th {\n",
       "        text-align: right;\n",
       "    }\n",
       "</style>\n",
       "<table border=\"1\" class=\"dataframe\">\n",
       "  <thead>\n",
       "    <tr style=\"text-align: right;\">\n",
       "      <th></th>\n",
       "      <th>noise_ratio(%)</th>\n",
       "      <th>num_QRS</th>\n",
       "      <th>mean</th>\n",
       "      <th>p_50</th>\n",
       "      <th>max</th>\n",
       "      <th>sd</th>\n",
       "      <th>num_wide_rr</th>\n",
       "      <th>num_narrow_rr</th>\n",
       "    </tr>\n",
       "  </thead>\n",
       "  <tbody>\n",
       "    <tr>\n",
       "      <th>0</th>\n",
       "      <td>1.45</td>\n",
       "      <td>1096924</td>\n",
       "      <td>261.34</td>\n",
       "      <td>256.0</td>\n",
       "      <td>2624</td>\n",
       "      <td>71.89</td>\n",
       "      <td>6592</td>\n",
       "      <td>0</td>\n",
       "    </tr>\n",
       "  </tbody>\n",
       "</table>\n",
       "</div>"
      ],
      "text/plain": [
       "   noise_ratio(%)  num_QRS    mean   p_50   max     sd  num_wide_rr  \\\n",
       "0            1.45  1096924  261.34  256.0  2624  71.89         6592   \n",
       "\n",
       "   num_narrow_rr  \n",
       "0              0  "
      ]
     },
     "execution_count": 49,
     "metadata": {},
     "output_type": "execute_result"
    }
   ],
   "source": [
    "summary"
   ]
  },
  {
   "cell_type": "code",
   "execution_count": null,
   "metadata": {},
   "outputs": [],
   "source": []
  },
  {
   "cell_type": "code",
   "execution_count": null,
   "metadata": {},
   "outputs": [],
   "source": []
  },
  {
   "cell_type": "code",
   "execution_count": null,
   "metadata": {},
   "outputs": [],
   "source": []
  },
  {
   "cell_type": "code",
   "execution_count": null,
   "metadata": {
    "ExecuteTime": {
     "end_time": "2022-05-23T04:38:22.680727Z",
     "start_time": "2022-05-23T04:38:22.659221Z"
    }
   },
   "outputs": [],
   "source": [
    "an = anno_noise_removed.copy()\n",
    "print(an.apc_run.value_counts())\n",
    "print(an.afib.value_counts())"
   ]
  },
  {
   "cell_type": "code",
   "execution_count": null,
   "metadata": {},
   "outputs": [],
   "source": [
    "rr_pre >> sorted() >> np.array()"
   ]
  },
  {
   "cell_type": "code",
   "execution_count": null,
   "metadata": {
    "ExecuteTime": {
     "end_time": "2022-04-12T00:43:29.794831Z",
     "start_time": "2022-04-12T00:43:29.730317Z"
    },
    "code_folding": [
     1,
     95,
     114,
     127
    ]
   },
   "outputs": [],
   "source": [
    "@jit(nopython = True)\n",
    "def apcrun_detector(rpeaks, threshold, option = 'relative', window_size = 30, num_cut = 2):\n",
    "    \n",
    "    rr_pre = rpeaks - np.roll(rpeaks, 1)\n",
    "    rr_pre[np.where(rr_pre > 1000)] = np.median(rr_pre)\n",
    "    rr_pre[np.where(rr_pre < 0)] = np.median(rr_pre)\n",
    "    rr_post = np.roll(rpeaks, -1) - rpeaks \n",
    "    rr_post[len(rpeaks)-1] = np.median(rr_pre)\n",
    "    rr_ratio = rr_pre / rr_post\n",
    "\n",
    "    ave = np.mean(rr_pre)\n",
    "    \n",
    "    if option == 'relative':\n",
    "        cutoff = np.quantile(rr_ratio[np.where(rr_ratio < 0.90)], 0.5)\n",
    "    else:\n",
    "        cutoff = threshold\n",
    "    afib_idx = []\n",
    "    equal_dist_flag = [1 if (w > 0.95) & (w < 1.05) else 0 for w in rr_ratio]\n",
    "    \n",
    "    for i in range(len(rpeaks)):\n",
    "       \n",
    "        if i < 5:\n",
    "            num = 0\n",
    "            x = []\n",
    "            k = i\n",
    "            num_iter = 0\n",
    "            while num < 5:\n",
    "                num_iter = num_iter + 1\n",
    "                if equal_dist_flag[k] == 1:\n",
    "                    x.append(rr_pre[k])\n",
    "                    num = num + 1\n",
    "            \n",
    "                k = k+1\n",
    "            x = np.array(x)\n",
    "            rr_intv_window = np.mean(x)\n",
    "        else:\n",
    "            num = 0\n",
    "            x = []\n",
    "            k = i\n",
    "            num_iter = 0\n",
    "            while num < 5:\n",
    "                num_iter = num_iter + 1\n",
    "                if equal_dist_flag[k] == 1:\n",
    "                    x.append(rr_pre[k])\n",
    "                    num = num + 1\n",
    "                k = k-1\n",
    "            x = np.array(x)\n",
    "            rr_intv_window = np.mean(x)\n",
    "         \n",
    "        if ((rr_ratio[i] < cutoff) | (rr_intv_window*cutoff > rr_pre[i])) & ((rr_post[i] > rr_intv_window*2.025) | (rr_post[i] < rr_intv_window*1.975)):\n",
    "            prmt_flag = 1\n",
    "        else:\n",
    "            prmt_flag = 0\n",
    "\n",
    "        if (rr_pre[i] > rr_intv_window*0.95) & (num_iter <= 15) & (rr_intv_window <= ave*cutoff) & (rr_pre[i] < rr_intv_window*1.05) & (prmt_flag == 1):\n",
    "            afib_idx.append(1)\n",
    "        else:\n",
    "            afib_idx.append(0)\n",
    "            \n",
    "    x = len(afib_idx) % window_size\n",
    "    afib1 = afib_idx[0:len(afib_idx)-x]\n",
    "    afib2 = afib_idx[len(afib_idx)-x:len(afib_idx)]\n",
    "    \n",
    "    dim1 = int(len(afib1)/window_size)\n",
    "    afib1 = np.array(afib1)\n",
    "    afib1 = afib1.reshape(dim1, window_size)\n",
    "\n",
    "    afib_flag1 = afib1.sum(axis = 1)\n",
    "    afib2 = np.array(afib2)\n",
    "    afib_flag = np.append(afib_flag1, np.sum(afib2))\n",
    "    afib_flag = afib_flag1\n",
    "\n",
    "    afib_flag = [1 if w >= num_cut else 0 for w in afib_flag]\n",
    "    afib_flag = np.array(afib_flag)\n",
    "    afib_label = []\n",
    "    for i in range(len(afib_flag)):\n",
    "        x = rr_ratio[window_size*i: window_size*(i+1)]\n",
    "        y = np.zeros(window_size)\n",
    "        if afib_flag[i] == 1:\n",
    "            y = np.ones(window_size)\n",
    "            y[np.where(x > 1.4)] = 0\n",
    "        afib_label.append(y)\n",
    "        \n",
    "#     x = rr_ratio[-len(afib2):]\n",
    "#     y = np.zeros(len(x))\n",
    "#     if afib_flag[-1] == 1:\n",
    "#         y = np.ones(len(x))\n",
    "#         y[np.where(x > 1.4)] = 0\n",
    "#     afib_label.append(y)\n",
    "    \n",
    "    afib_label = np.array([item for sublist in afib_label for item in sublist])\n",
    "#     afib_label = np.delete(afib_label, [0,1,2,3])\n",
    "    \n",
    "    return afib_label\n",
    "\n",
    "def search_previous(idx, x):\n",
    "    if idx == -1:\n",
    "        idx = 1\n",
    "    if idx > 200:\n",
    "        y = np.array(x[idx-200:idx])\n",
    "        z = np.where(y == 0)[0]\n",
    "        if len(z) > 0:\n",
    "            z = z[-1] + idx - 200\n",
    "        else:\n",
    "            z = idx\n",
    "    else:\n",
    "        y = np.array(x[0:idx])\n",
    "        z = np.where(y == 0)[0]\n",
    "        if len(z) > 0:\n",
    "            z = z[-1]\n",
    "        else:\n",
    "            z = idx\n",
    "    return z\n",
    "\n",
    "def search_post(idx, x):\n",
    "    if idx < len(x)-301:\n",
    "        y = x[idx:idx+300]\n",
    "    else:\n",
    "        y = x[idx:len(x)]\n",
    "    z = np.where(y == 0)[0]\n",
    "    if len(z) > 0:\n",
    "        z = z[0] + idx\n",
    "    else:\n",
    "        z = idx\n",
    "    return z\n",
    "    \n",
    "\n",
    "def apcrun_filter(rpeaks):\n",
    "    rr_pre = rpeaks - np.roll(rpeaks, 1)\n",
    "    rr_pre[np.where(rr_pre > 1000)] = np.median(rr_pre)\n",
    "    rr_pre[np.where(rr_pre < 0)] = np.median(rr_pre)\n",
    "    rr_post = np.roll(rpeaks, -1) - rpeaks \n",
    "    rr_post[len(rpeaks)-1] = np.median(rr_pre)\n",
    "    rr_ratio = rr_pre / rr_post\n",
    "    rr_pre[np.where(rr_pre < 0)] = np.median(rr_pre)\n",
    "    \n",
    "    ave = np.mean(rr_pre)\n",
    "    \n",
    "    sorted_pre = np.array(sorted(rr_pre))\n",
    "    avg2 = np.mean(sorted_pre[int(len(rr_pre)*0.05):int(len(rr_pre)*0.95)])\n",
    "    avg2 = avg2 **2\n",
    "    \n",
    "    missing_idx = np.where((rr_ratio > 0.4875) & (rr_ratio < 0.5125))[0]\n",
    "    rr_pre_temp = rr_pre.copy()\n",
    "    rr_pre_temp[missing_idx+1] = rr_pre_temp[missing_idx+1]/2 \n",
    "    \n",
    "    cr = []\n",
    "    for i in missing_idx:\n",
    "        cr.append(math.log(np.std(rr_pre_temp[i-10:i+10]/avg2*10000+1)))\n",
    "\n",
    "    cr = np.array(cr)\n",
    "    recover = missing_idx[np.where(cr < 0.5)[0]]\n",
    "    rr_pre[recover+1] = rr_pre[recover+1]/2\n",
    "    rr_post[recover] = rr_post[recover]/2\n",
    "    rr_ratio[recover] = 1\n",
    "    \n",
    "    equal_dist_flag = np.array([1 if (w > 0.88) & (w < 1.12) else 0 for w in rr_ratio])\n",
    "    \n",
    "    \n",
    "    rr_pre_conv = []\n",
    "    rr_post_conv = []\n",
    "    \n",
    "    for i in range(3, len(rpeaks)):\n",
    "        pre = np.mean(rr_pre[i-3:i])\n",
    "        rr_pre_conv.append(pre)\n",
    "        \n",
    "    for i in range(len(rpeaks)-3):   \n",
    "        post = np.mean(rr_pre[i+1:i+4])\n",
    "        rr_post_conv.append(post)\n",
    "        \n",
    "    rr_pre_conv = [rr_pre[1], rr_pre[1], rr_pre[1]] + rr_pre_conv\n",
    "    rr_post_conv = rr_post_conv + [rr_pre[len(rpeaks)-1], rr_pre[len(rpeaks)-1], rr_pre[len(rpeaks)-1]]\n",
    "        \n",
    "    irr_conv = []\n",
    "    for i in range(len(rr_pre_conv)):\n",
    "        if rr_pre_conv[i] < 0.815*rr_post_conv[i]:\n",
    "            irr_conv.append(1)\n",
    "        else:\n",
    "            irr_conv.append(0)\n",
    "            \n",
    "    irr_conv = np.array(irr_conv)\n",
    "        \n",
    "    apc_idxes = []\n",
    "    irr_idxes = np.where((rr_ratio < 0.815) & (irr_conv == 1))[0]\n",
    "    irr_starts = np.array([search_previous(w, equal_dist_flag) for w in irr_idxes])\n",
    "    pre_starts = np.array([search_previous(w, equal_dist_flag) for w in irr_starts])\n",
    "    post_ends = np.array([search_post(w, equal_dist_flag) for w in irr_idxes+1])\n",
    "    \n",
    "    ave_all = []\n",
    "    for i in range(len(rr_pre)):\n",
    "        if i < 120:\n",
    "            ave = np.mean(rr_pre[i:240])\n",
    "        elif i > len(rpeaks)-120:\n",
    "            ave = np.mean(rr_pre[i-240:i])\n",
    "        else:\n",
    "            ave = np.mean(rr_pre[i-120:i+120])\n",
    "        ave_all.append(ave)\n",
    "    ave_all = np.array(ave_all)\n",
    "    ave_all = ave_all[irr_idxes]\n",
    "    \n",
    "    \n",
    "    ave_pre = np.array([np.mean(rr_pre[x:y]) for x, y in zip(pre_starts, irr_starts)])\n",
    "    ave_irr = np.array([np.nanmean(rr_pre[x+1:y+1]) for x, y in zip(irr_starts, irr_idxes)])\n",
    "    ave_post = np.array([np.mean(rr_pre[x:y]) for x, y in zip(irr_idxes+1, post_ends)])\n",
    "    \n",
    "    c = np.nanmax(np.array([ave_pre, ave_post]), axis = 0)\n",
    "    \n",
    "    \n",
    "    ave_all =  np.nanmax(np.array([ave_all, c]), axis = 0)\n",
    "    x = np.where((ave_irr < ave_all*0.815))[0]\n",
    "    \n",
    "    apc_run = []\n",
    "    for i in x:\n",
    "        potential = list(range(irr_starts[i], irr_idxes[i]))\n",
    "        apc_run.append(potential)\n",
    "        \n",
    "    apc_run = np.array(list(chain.from_iterable(apc_run)))\n",
    "    return apc_run\n"
   ]
  },
  {
   "cell_type": "code",
   "execution_count": null,
   "metadata": {
    "ExecuteTime": {
     "end_time": "2022-04-12T00:59:04.223870Z",
     "start_time": "2022-04-12T00:59:04.174077Z"
    },
    "code_folding": [
     1,
     133
    ]
   },
   "outputs": [],
   "source": [
    "@jit(nopython = True)\n",
    "def apcrun_filter_part1(rpeaks):\n",
    "    rr_pre = rpeaks - np.roll(rpeaks, 1)\n",
    "    rr_pre[np.where(rr_pre > 1000)] = np.median(rr_pre)\n",
    "    rr_pre[np.where(rr_pre < 0)] = np.median(rr_pre)\n",
    "    rr_post = np.roll(rpeaks, -1) - rpeaks \n",
    "    rr_post[len(rpeaks)-1] = np.median(rr_pre)\n",
    "    rr_ratio = rr_pre / rr_post\n",
    "    rr_pre[np.where(rr_pre < 0)] = np.median(rr_pre)\n",
    "    \n",
    "    ave = np.mean(rr_pre)\n",
    "    \n",
    "    sorted_pre = np.array(sorted(rr_pre))\n",
    "    avg2 = np.mean(sorted_pre[int(len(rr_pre)*0.05):int(len(rr_pre)*0.95)])\n",
    "    avg2 = avg2 **2\n",
    "   \n",
    "    missing_idx = np.where((rr_ratio > 0.4875) & (rr_ratio < 0.5125))[0]\n",
    "    rr_pre_temp = rr_pre.copy()\n",
    "    rr_pre_temp[missing_idx+1] = rr_pre_temp[missing_idx+1]/2 \n",
    "    \n",
    "    cr = []\n",
    "    \n",
    "    for i in missing_idx:\n",
    "        if i >= 10:\n",
    "            cr.append(math.log(np.std(rr_pre_temp[i-10:i+10]/avg2*10000+1)))\n",
    "        else:\n",
    "            cr.append(math.log(np.std(rr_pre_temp[i:i+20]/avg2*10000+1)))\n",
    "    \n",
    "    cr = np.array(cr)\n",
    "    recover = missing_idx[np.where(cr < 0.5)[0]]\n",
    "    rr_pre[recover+1] = rr_pre[recover+1]/2\n",
    "    rr_post[recover] = rr_post[recover]/2\n",
    "    rr_ratio[recover] = 1\n",
    "    \n",
    "    equal_dist_flag = np.array([1 if (w > 0.88) & (w < 1.12) else 0 for w in rr_ratio])\n",
    "    \n",
    "  \n",
    "    rr_pre_conv = []\n",
    "    rr_post_conv = []\n",
    "    \n",
    "    for i in range(3, len(rpeaks)):\n",
    "        pre = np.mean(rr_pre[i-3:i])\n",
    "        rr_pre_conv.append(pre)\n",
    "        \n",
    "    for i in range(len(rpeaks)-3):   \n",
    "        post = np.mean(rr_pre[i+1:i+4])\n",
    "        rr_post_conv.append(post)\n",
    "        \n",
    "    rr_pre_conv = [rr_pre[1], rr_pre[1], rr_pre[1]] + rr_pre_conv\n",
    "    rr_post_conv = rr_post_conv + [rr_pre[len(rpeaks)-1], rr_pre[len(rpeaks)-1], rr_pre[len(rpeaks)-1]]\n",
    "        \n",
    "    irr_conv = []\n",
    "    for i in range(len(rr_pre_conv)):\n",
    "        if rr_pre_conv[i] < 0.815*rr_post_conv[i]:\n",
    "            irr_conv.append(1)\n",
    "        else:\n",
    "            irr_conv.append(0)\n",
    "            \n",
    "    irr_conv = np.array(irr_conv)\n",
    "        \n",
    "    apc_idxes = []\n",
    "    irr_idxes = np.where((rr_ratio < 0.815) & (irr_conv == 1))[0]\n",
    "    \n",
    "    irr_starts = []\n",
    "    pre_starts = []\n",
    "    post_ends = []\n",
    "    \n",
    "    x = equal_dist_flag.copy()\n",
    "    for idx in irr_idxes:\n",
    "        if idx == -1:\n",
    "            idx = 1\n",
    "        if idx > 200:\n",
    "            y = x[idx-200:idx]\n",
    "            z = np.where(y == 0)[0]\n",
    "            if len(z) > 0:\n",
    "                z = z[-1] + idx - 200\n",
    "            else:\n",
    "                z = idx\n",
    "        else:\n",
    "            y = x[0:idx]\n",
    "            z = np.where(y == 0)[0]\n",
    "            if len(z) > 0:\n",
    "                z = z[-1]\n",
    "            else:\n",
    "                z = idx\n",
    "        irr_starts.append(z)\n",
    "    \n",
    "    for idx in irr_starts:\n",
    "        if idx == -1:\n",
    "            idx = 1\n",
    "        if idx > 200:\n",
    "            y = x[idx-200:idx]\n",
    "            z = np.where(y == 0)[0]\n",
    "            if len(z) > 0:\n",
    "                z = z[-1] + idx - 200\n",
    "            else:\n",
    "                z = idx\n",
    "        else:\n",
    "            y = x[0:idx]\n",
    "            z = np.where(y == 0)[0]\n",
    "            if len(z) > 0:\n",
    "                z = z[-1]\n",
    "            else:\n",
    "                z = idx\n",
    "        pre_starts.append(z)\n",
    "        \n",
    "    for idx in irr_idxes+1:\n",
    "        if idx < len(x)-301:\n",
    "            y = x[idx:idx+300]\n",
    "        else:\n",
    "            y = x[idx:len(x)]\n",
    "        z = np.where(y == 0)[0]\n",
    "        if len(z) > 0:\n",
    "            z = z[0] + idx\n",
    "        else:\n",
    "            z = idx\n",
    "            \n",
    "        post_ends.append(z)\n",
    "    \n",
    "    ave_all = []\n",
    "    for i in range(len(rr_pre)):\n",
    "        if i < 120:\n",
    "            ave = np.mean(rr_pre[i:240])\n",
    "        elif i > len(rpeaks)-120:\n",
    "            ave = np.mean(rr_pre[i-240:i])\n",
    "        else:\n",
    "            ave = np.mean(rr_pre[i-120:i+120])\n",
    "        ave_all.append(ave)\n",
    "    ave_all = np.array(ave_all)\n",
    "    ave_all = ave_all[irr_idxes]\n",
    "    \n",
    "    return rr_pre, pre_starts, irr_starts, irr_idxes, post_ends, ave_all\n",
    "\n",
    "def apcrun_filter_part2(rr_pre, pre_starts, irr_starts, irr_idxes, post_ends, ave_all):\n",
    "    ave_pre = np.array([np.mean(rr_pre[x:y]) for x, y in zip(pre_starts, irr_starts)])\n",
    "    ave_irr = np.array([np.nanmean(rr_pre[x+1:y+1]) for x, y in zip(irr_starts, irr_idxes)])\n",
    "    ave_post = np.array([np.mean(rr_pre[x:y]) for x, y in zip(irr_idxes+1, post_ends)])\n",
    "\n",
    "    c = np.nanmax(np.array([ave_pre, ave_post]), axis = 0)\n",
    "\n",
    "\n",
    "    ave_all =  np.nanmax(np.array([ave_all, c]), axis = 0)\n",
    "    x = np.where((ave_irr < ave_all*0.815))[0]\n",
    "\n",
    "    apc_run = []\n",
    "    for i in x:\n",
    "        potential = list(range(irr_starts[i], irr_idxes[i]))\n",
    "        apc_run.append(potential)\n",
    "\n",
    "    apc_run = np.array(list(chain.from_iterable(apc_run)))\n",
    "    return apc_run"
   ]
  },
  {
   "cell_type": "code",
   "execution_count": null,
   "metadata": {
    "ExecuteTime": {
     "end_time": "2022-04-12T00:59:12.307282Z",
     "start_time": "2022-04-12T00:59:06.180431Z"
    }
   },
   "outputs": [],
   "source": [
    "rr_pre, pre_starts, irr_starts, irr_idxes, post_ends, ave_all = apcrun_filter_part1(rpeaks)\n",
    "y = apcrun_filter_part2(rr_pre, pre_starts, irr_starts, irr_idxes, post_ends, ave_all)"
   ]
  },
  {
   "cell_type": "code",
   "execution_count": null,
   "metadata": {
    "ExecuteTime": {
     "end_time": "2022-04-12T00:59:12.312447Z",
     "start_time": "2022-04-12T00:59:12.308911Z"
    }
   },
   "outputs": [],
   "source": [
    "len(y)"
   ]
  },
  {
   "cell_type": "code",
   "execution_count": null,
   "metadata": {
    "ExecuteTime": {
     "end_time": "2022-04-12T00:44:12.709100Z",
     "start_time": "2022-04-12T00:43:46.968527Z"
    }
   },
   "outputs": [],
   "source": [
    "len(apcrun_filter(rpeaks))"
   ]
  },
  {
   "cell_type": "code",
   "execution_count": null,
   "metadata": {
    "ExecuteTime": {
     "end_time": "2022-03-31T06:23:17.193779Z",
     "start_time": "2022-03-31T06:23:17.164202Z"
    }
   },
   "outputs": [],
   "source": [
    "an = anno_noise_removed.copy()\n",
    "rpeaks = np.array(an['pos'])"
   ]
  },
  {
   "cell_type": "code",
   "execution_count": null,
   "metadata": {
    "ExecuteTime": {
     "start_time": "2022-03-31T06:08:30.703Z"
    }
   },
   "outputs": [],
   "source": [
    "x = apcrun_filter(rpeaks)"
   ]
  },
  {
   "cell_type": "code",
   "execution_count": null,
   "metadata": {},
   "outputs": [],
   "source": []
  },
  {
   "cell_type": "code",
   "execution_count": null,
   "metadata": {
    "ExecuteTime": {
     "end_time": "2022-03-24T08:16:55.504788Z",
     "start_time": "2022-03-24T08:16:51.046717Z"
    }
   },
   "outputs": [],
   "source": [
    "print(np.unique(an.apc_run8, return_counts = True))\n",
    "an.target[an.apc_run8 == 1] = 'S'"
   ]
  },
  {
   "cell_type": "code",
   "execution_count": null,
   "metadata": {
    "ExecuteTime": {
     "end_time": "2022-03-24T23:37:31.981212Z",
     "start_time": "2022-03-24T23:37:31.726445Z"
    }
   },
   "outputs": [],
   "source": [
    "x = np.array(an['pos'][(an.apc_run == 1) & (an.apc_run5 == 0) & (an.afib == 0)])\n",
    "x = np.array(an['pos'][(an.apc_run8 == 1) & (an.afib == 0)])\n",
    "x = np.array(an['pos'][(an.apc_run8 == 1)])\n",
    "print(len(x))\n",
    "center = random.choice(x)\n",
    "plot_rpeak_window(sig_noise_removed, an, center, 3000, 'a', 'a')"
   ]
  },
  {
   "cell_type": "code",
   "execution_count": null,
   "metadata": {},
   "outputs": [],
   "source": []
  },
  {
   "cell_type": "code",
   "execution_count": null,
   "metadata": {},
   "outputs": [],
   "source": []
  },
  {
   "cell_type": "code",
   "execution_count": null,
   "metadata": {},
   "outputs": [],
   "source": []
  },
  {
   "cell_type": "code",
   "execution_count": null,
   "metadata": {},
   "outputs": [],
   "source": []
  },
  {
   "cell_type": "code",
   "execution_count": null,
   "metadata": {
    "ExecuteTime": {
     "end_time": "2022-06-02T07:06:27.589516Z",
     "start_time": "2022-06-02T07:06:27.580037Z"
    }
   },
   "outputs": [],
   "source": [
    "@jit(nopython = True)\n",
    "def center_mean(sig, anno):\n",
    "    x = []\n",
    "    for center in anno:\n",
    "        x.append(np.mean(sig[center-5:center+5]))\n",
    "    return x"
   ]
  },
  {
   "cell_type": "code",
   "execution_count": null,
   "metadata": {
    "ExecuteTime": {
     "end_time": "2022-06-02T06:26:09.370696Z",
     "start_time": "2022-06-02T06:26:09.356193Z"
    }
   },
   "outputs": [],
   "source": [
    "@jit(nopython = True)\n",
    "def cut_signal(ecg1, centers, size):\n",
    "    ecg_big_array = [ecg1[x-size:x+size] for x in centers]\n",
    "    return ecg_big_array\n",
    "\n",
    "@jit(nopython = True)        \n",
    "def running_mean(x, N):\n",
    "    \n",
    "    cumsum = np.cumsum(x) \n",
    "    cumsum[N:] = (cumsum[N:] - cumsum[:-N]) / float(N)\n",
    "    \n",
    "    for i in range(1, N):\n",
    "        cumsum[i-1] = cumsum[i-1] / i\n",
    "\n",
    "    return cumsum\n"
   ]
  },
  {
   "cell_type": "code",
   "execution_count": null,
   "metadata": {
    "ExecuteTime": {
     "end_time": "2022-06-03T06:05:08.539984Z",
     "start_time": "2022-06-03T06:05:08.512195Z"
    },
    "code_folding": [
     0,
     14
    ]
   },
   "outputs": [],
   "source": [
    "def correct_peak(filtered_signal, qrs_array, sRate, size):\n",
    "    peaks = np.array(qrs_array)\n",
    "    peaks = peaks[np.where(peaks > size)]\n",
    "    \n",
    "    ecg_big_array = cut_signal(filtered_signal, peaks, size)\n",
    "    max_per_window = [np.argmax(w) for w in ecg_big_array]\n",
    "    max_per_window = np.asarray(max_per_window)\n",
    "    addings = peaks[:]\n",
    "    addings = [w-size for w in addings]\n",
    "    addings = np.asarray(addings)\n",
    "    max_per_window = np.add(max_per_window, addings)\n",
    "\n",
    "    return max_per_window\n",
    "\n",
    "def correct_peak_min(filtered_signal, qrs_array, sRate, size):\n",
    "    peaks = np.array(qrs_array)\n",
    "    peaks = peaks[np.where(peaks > size)]\n",
    "    \n",
    "    ecg_big_array = cut_signal(filtered_signal, peaks, size)\n",
    "    max_per_window = [np.argmin(w) for w in ecg_big_array]\n",
    "    max_per_window = np.asarray(max_per_window)\n",
    "    addings = peaks[:]\n",
    "    addings = [w-size for w in addings]\n",
    "    addings = np.asarray(addings)\n",
    "    max_per_window = np.add(max_per_window, addings)\n",
    "\n",
    "    return max_per_window\n",
    "\n",
    "def remove_amplitude(filtered_signal, rpeak, sRate):\n",
    "\n",
    "    rpeak_new = correct_peak(filtered_signal, rpeak, 70)\n",
    "    amp_array1 = filtered_signal[rpeak_new]\n",
    "    \n",
    "    rpeak_new = correct_peak_min(filtered_signal, rpeak_new, 15)\n",
    "    amp_array2 = filtered_signal[rpeak_new]\n",
    "    \n",
    "    amp_array = np.abs(amp_array1 - amp_array2)\n",
    "    \n",
    "    remove = np.where(amp_array < 0.1)[0]\n",
    "#     remove_idx = np.where(amp_array < 0.5*mva)[0]\n",
    "    \n",
    "#     diff_signal = np.abs(np.diff(filtered_signal))\n",
    "#     diff_array = diff_signal[rpeak]\n",
    "#     diff_mean = np.array(center_mean(diff_signal, rpeak))\n",
    "#     remove_diff = np.where(diff_array < 0.5*diff_mean)[0]\n",
    "#     remove = list(remove_idx) + list(remove_diff)\n",
    "#     remove.sort()\n",
    "#     remove = list(dict.fromkeys(remove))\n",
    "\n",
    "    return np.array(remove)\n",
    "\n",
    "def get_summary_anno(x):\n",
    "    x = np.asarray(x)\n",
    "    X = pd.DataFrame({\n",
    "                      'num_QRS' : len(x),\n",
    "                      'mean': np.nanmean(x),\n",
    "                      'p_50': np.nanquantile(x, 0.50),\n",
    "                      'max': np.nanmax(x),\n",
    "                      'sd': np.nanstd(x), \n",
    "                      'num_wide_rr': len(np.where(x > 500)[0]),\n",
    "                      'num_narrow_rr': len(np.where(x < 60)[0])}, index = [0])\n",
    "    return(X.round(2))\n",
    "\n"
   ]
  },
  {
   "cell_type": "code",
   "execution_count": null,
   "metadata": {
    "ExecuteTime": {
     "end_time": "2022-06-02T05:44:53.399899Z",
     "start_time": "2022-06-02T05:44:53.391662Z"
    }
   },
   "outputs": [],
   "source": [
    "rpeak = np.array(an['pos'])"
   ]
  },
  {
   "cell_type": "code",
   "execution_count": null,
   "metadata": {
    "ExecuteTime": {
     "end_time": "2022-06-02T05:45:05.224320Z",
     "start_time": "2022-06-02T05:44:54.887390Z"
    }
   },
   "outputs": [],
   "source": [
    "filtered = calc_lp(sig_noise_removed, 7, 3)"
   ]
  },
  {
   "cell_type": "code",
   "execution_count": null,
   "metadata": {
    "ExecuteTime": {
     "end_time": "2022-06-02T05:45:41.807165Z",
     "start_time": "2022-06-02T05:45:41.380182Z"
    }
   },
   "outputs": [],
   "source": [
    "squared = filtered*filtered"
   ]
  },
  {
   "cell_type": "code",
   "execution_count": null,
   "metadata": {},
   "outputs": [],
   "source": [
    "rpeak_new = correct_peak(squared, rpeak, 30, 100)"
   ]
  },
  {
   "cell_type": "code",
   "execution_count": null,
   "metadata": {
    "ExecuteTime": {
     "end_time": "2022-06-02T07:13:52.539827Z",
     "start_time": "2022-06-02T07:13:43.808296Z"
    }
   },
   "outputs": [],
   "source": [
    "wrong_peaks = remove_amplitude(filtered, rpeak, sRate=300)"
   ]
  },
  {
   "cell_type": "code",
   "execution_count": null,
   "metadata": {
    "ExecuteTime": {
     "end_time": "2022-06-02T07:13:52.617889Z",
     "start_time": "2022-06-02T07:13:52.541760Z"
    }
   },
   "outputs": [],
   "source": [
    "an2 = an.drop(wrong_peaks,axis=0)\n",
    "an2['rr_pre'] = an2['pos'] - np.roll(an2['pos'], 1)\n",
    "an2['rr_pre'][0] = 300\n",
    "an2['rr_post'] = np.roll(an2['pos'], -1) - an2['pos'] \n",
    "an2['rr_post'][len(an2)-1] = 300\n",
    "an2['rr_ratio'] = an2['rr_pre'] / an2['rr_post']\n",
    "get_summary_anno(np.array(an2['rr_pre']))"
   ]
  },
  {
   "cell_type": "code",
   "execution_count": null,
   "metadata": {
    "ExecuteTime": {
     "end_time": "2022-06-02T04:59:01.741339Z",
     "start_time": "2022-06-02T04:59:01.586201Z"
    }
   },
   "outputs": [],
   "source": [
    "x = np.array(range(0,2000))\n",
    "plt.scatter(x, squared[rpeak_new][0:2000])\n",
    "plt.ylim(0, 0.1)"
   ]
  },
  {
   "cell_type": "code",
   "execution_count": null,
   "metadata": {},
   "outputs": [],
   "source": []
  },
  {
   "cell_type": "code",
   "execution_count": null,
   "metadata": {
    "ExecuteTime": {
     "end_time": "2022-06-03T06:05:11.327645Z",
     "start_time": "2022-06-03T06:05:11.279940Z"
    }
   },
   "outputs": [],
   "source": [
    "get_summary_anno(np.array(an['rr_pre']))"
   ]
  },
  {
   "cell_type": "code",
   "execution_count": null,
   "metadata": {},
   "outputs": [],
   "source": []
  },
  {
   "cell_type": "code",
   "execution_count": null,
   "metadata": {},
   "outputs": [],
   "source": []
  },
  {
   "cell_type": "code",
   "execution_count": null,
   "metadata": {},
   "outputs": [],
   "source": []
  },
  {
   "cell_type": "code",
   "execution_count": null,
   "metadata": {},
   "outputs": [],
   "source": []
  },
  {
   "cell_type": "code",
   "execution_count": null,
   "metadata": {},
   "outputs": [],
   "source": []
  },
  {
   "cell_type": "code",
   "execution_count": null,
   "metadata": {},
   "outputs": [],
   "source": []
  },
  {
   "cell_type": "code",
   "execution_count": null,
   "metadata": {},
   "outputs": [],
   "source": []
  },
  {
   "cell_type": "code",
   "execution_count": null,
   "metadata": {},
   "outputs": [],
   "source": []
  },
  {
   "cell_type": "code",
   "execution_count": null,
   "metadata": {
    "ExecuteTime": {
     "end_time": "2022-03-24T04:54:49.925347Z",
     "start_time": "2022-03-24T04:54:49.904511Z"
    },
    "code_folding": [
     31
    ]
   },
   "outputs": [],
   "source": [
    "for id_no in [10,11,12,13,14]:\n",
    "\n",
    "    for task in [1, 2]:\n",
    "\n",
    "        patient_id = file_names_anno[id_no][:-15]\n",
    "        full_signal = at_signals_raw[id_no]\n",
    "        anno = at_annos[id_no].drop([0,1,2,3, len(at_annos[id_no])-1])\n",
    "        anno['pred'] = pred_lists[id_no].astype(np.int)\n",
    "        anno['target'][anno.target == 'N'] = 0\n",
    "        anno['target'][anno.target == 'S'] = 1\n",
    "        anno['target'][anno.target == 'V'] = 2\n",
    "        anno['flag'] = np.zeros(len(anno))\n",
    "        anno['flag'][(anno.target==0)&(anno.pred==task)] = 1\n",
    "        anno['flag']= anno['flag'].astype(int)\n",
    "\n",
    "        start = anno['loc'][anno.flag == 0].iloc[0] + 3600\n",
    "        rpeaks = np.array(anno['loc'])\n",
    "        x =  np.arange(rpeaks[0], rpeaks[len(rpeaks)-1], 18000)\n",
    "        anno['group'] = np.digitize(rpeaks, x)\n",
    "\n",
    "        anno = anno.groupby('group').filter(lambda s: s.flag.sum() > 0) \n",
    "        rpeaks = np.array(anno['loc'])\n",
    "        starts = np.array(anno.groupby('group').first()['loc'])\n",
    "        ends = np.array(anno.groupby('group').tail(1))\n",
    "\n",
    "        anno.target = anno.target.astype(int)\n",
    "        targets = np.array(anno.target)\n",
    "        flags = np.array(anno.flag)\n",
    "        bpms = np.round(np.array(300/np.array(anno.rr_pre)*60)).astype(int)\n",
    "\n",
    "        @jit(nopython = True)  \n",
    "        def get_sigs_peaks(full_signal, starts, targets, flags, bpms):\n",
    "\n",
    "            sigs = []\n",
    "            peaks = []\n",
    "            tar = []\n",
    "            flg = []\n",
    "            bpm = []\n",
    "            for i in starts:\n",
    "                for j in range(5):\n",
    "                    sigs.append(full_signal[i+j*3600:i+(j+1)*3600])\n",
    "                    peaks.append(rpeaks[np.where((rpeaks >= i+j*3600) & \n",
    "                                                (rpeaks < i+(j+1)*3600))]- i-(j*3600))\n",
    "                    tar.append(targets[np.where((rpeaks >= i+j*3600) & \n",
    "                                                (rpeaks < i+(j+1)*3600))])\n",
    "                    flg.append(flags[np.where((rpeaks >= i+j*3600) & \n",
    "                                                (rpeaks < i+(j+1)*3600))])\n",
    "                    bpm.append(bpms[np.where((rpeaks >= i+j*3600) & \n",
    "                                                (rpeaks < i+(j+1)*3600))])\n",
    "\n",
    "            return sigs, peaks, tar, flg, bpm\n",
    "\n",
    "        x, r, tar, flg, bpm = get_sigs_peaks(full_signal, starts, targets, flags, bpms)\n",
    "\n",
    "        new_r = []\n",
    "        for i in np.arange(0, len(r)-4, 5):\n",
    "            new_r.append([r[i], r[i+1], r[i+2], r[i+3], r[i+4]])\n",
    "\n",
    "        new_x = []\n",
    "        for i in np.arange(0, len(x)-4, 5):\n",
    "            new_x.append([x[i], x[i+1], x[i+2], x[i+3], x[i+4]])\n",
    "\n",
    "        new_tar = []\n",
    "        for i in np.arange(0, len(r)-4, 5):\n",
    "            new_tar.append([tar[i], tar[i+1], tar[i+2], tar[i+3], tar[i+4]])\n",
    "\n",
    "        new_flg = []\n",
    "        for i in np.arange(0, len(r)-4, 5):\n",
    "            new_flg.append([flg[i], flg[i+1], flg[i+2], flg[i+3], flg[i+4]])\n",
    "\n",
    "        new_bpm = []\n",
    "        for i in np.arange(0, len(r)-4, 5):\n",
    "            new_bpm.append([bpm[i], bpm[i+1], bpm[i+2], bpm[i+3], bpm[i+4]])\n",
    "\n",
    "        time = np.round(starts/300, 3)\n",
    "\n",
    "\n",
    "        path = '/home/cbn-gpu08/Docker/R/ECG/atsense/plot_cnu2/' + patient_id\n",
    "        if task == 1:\n",
    "            os.chdir(path + '/SVE')\n",
    "        else:\n",
    "            os.chdir(path + '/PVC')\n",
    "\n",
    "        plotname = file_names_anno[id_no][:-15]\n",
    "\n",
    "        colors = {'N': 'lime', 'S': 'purple', 'V':'orange', 'C': 'red'}\n",
    "        try:\n",
    "            for j, t in zip(range(len(new_r)), time):\n",
    "                fig = plt.figure(figsize = (16, 14))\n",
    "                gs = fig.add_gridspec(5, hspace=0)\n",
    "                axs = gs.subplots(sharex=True, sharey=True)\n",
    "                fig.suptitle('\\n' + '\\n' + plotname + '_' + '00' + str(j) + 'th_' +  str(t) + ' seconds')   \n",
    "\n",
    "                for i in range(5):\n",
    "\n",
    "                    sig = new_x[j][i]\n",
    "                    markers = new_r[j][i]\n",
    "                    df = pd.DataFrame({'x': new_r[j][i], 'y': -1.0, \n",
    "                                       'group':new_tar[j][i], 'flag':new_flg[j][i],\n",
    "                                      'bpm': new_bpm[j][i]})\n",
    "                    df['group'][df.group == 0] = 'N'\n",
    "                    df['group'][df.group == 1] = 'S'\n",
    "                    df['group'][df.group == 2] = 'V'\n",
    "                    df['group'][df.flag == 1] = 'C'\n",
    "                    groups = df.groupby('group')\n",
    "                    axs[i].plot(range(3600), new_x[j][i], color = 'black', linewidth = 1.5)\n",
    "\n",
    "                    for x, z in zip(new_r[j][i], new_bpm[j][i]):\n",
    "                        axs[i].text(x-2, 1, str(z), color=\"black\", fontsize=12)\n",
    "\n",
    "                    axs[i].set_ylim([-2, 2])\n",
    "                    for name, group in groups:\n",
    "                        if name == 'C':\n",
    "                            axs[i].plot(group.x, \n",
    "                                    group.y, \n",
    "                                    marker='o', \n",
    "                                    linestyle='',\n",
    "                                    color = colors[name],\n",
    "                                       mew = 5.25)\n",
    "                        else:\n",
    "                            axs[i].plot(group.x, \n",
    "                                    group.y, \n",
    "                                    marker='o', \n",
    "                                    linestyle='',\n",
    "                                    color = colors[name],\n",
    "                                       mew = 0.75)\n",
    "\n",
    "                    plt.xticks(np.arange(0, 3900, 300), range(13))\n",
    "\n",
    "\n",
    "                    for k in range(0, 60) :\n",
    "                        axs[i].axvline(12*300/60*k,c='red',linewidth=0.5, alpha=0.4)\n",
    "\n",
    "                    for k in range(0, 300) :\n",
    "                        axs[i].axvline(12*300/300*k,c='red',linewidth=0.5, alpha=0.15)\n",
    "\n",
    "                    for k in range(0, 4) :\n",
    "                        axs[i].axhline(0.5*k,c='red',linewidth=0.5, alpha=0.4)\n",
    "                        axs[i].axhline(-0.5*k,c='red',linewidth=0.5, alpha=0.4)\n",
    "\n",
    "                    for k in range(0, 20) :\n",
    "                        axs[i].axhline(0.1*k,c='red',linewidth=0.5, alpha=0.15)\n",
    "                        axs[i].axhline(-0.1*k,c='red',linewidth=0.5, alpha=0.15)\n",
    "\n",
    "                    axs[i].axvline(12*300, c='red',linewidth=0.5, alpha=0.4)\n",
    "\n",
    "                fig.savefig(plotname + '_' + '00' + str(j) + 'th_' +  str(t) + ' seconds' + '.png', dpi = 300)\n",
    "                plt.close(fig) \n",
    "        except:\n",
    "            pass"
   ]
  },
  {
   "cell_type": "code",
   "execution_count": null,
   "metadata": {},
   "outputs": [],
   "source": []
  },
  {
   "cell_type": "code",
   "execution_count": null,
   "metadata": {},
   "outputs": [],
   "source": []
  },
  {
   "cell_type": "code",
   "execution_count": null,
   "metadata": {},
   "outputs": [],
   "source": []
  },
  {
   "cell_type": "code",
   "execution_count": null,
   "metadata": {},
   "outputs": [],
   "source": []
  },
  {
   "cell_type": "code",
   "execution_count": null,
   "metadata": {},
   "outputs": [],
   "source": []
  },
  {
   "cell_type": "code",
   "execution_count": null,
   "metadata": {},
   "outputs": [],
   "source": []
  },
  {
   "cell_type": "code",
   "execution_count": null,
   "metadata": {},
   "outputs": [],
   "source": []
  },
  {
   "cell_type": "code",
   "execution_count": null,
   "metadata": {},
   "outputs": [],
   "source": []
  },
  {
   "cell_type": "code",
   "execution_count": null,
   "metadata": {},
   "outputs": [],
   "source": []
  },
  {
   "cell_type": "code",
   "execution_count": null,
   "metadata": {},
   "outputs": [],
   "source": []
  },
  {
   "cell_type": "code",
   "execution_count": null,
   "metadata": {
    "ExecuteTime": {
     "end_time": "2022-06-09T04:12:54.363050Z",
     "start_time": "2022-06-09T04:12:54.242784Z"
    }
   },
   "outputs": [],
   "source": [
    "from IPython.display import clear_output\n",
    "\n",
    "from ecgdetectors import Detectors\n",
    "import pandas as pd\n",
    "import numpy as np\n",
    "import os\n",
    "import matplotlib.pyplot as plt\n",
    "plt.style.use('seaborn-whitegrid')\n",
    "import glob\n",
    "import math\n",
    "\n",
    "from multiprocessing import Pool\n",
    "import parmap\n",
    "from datetime import datetime\n",
    "import wfdb\n",
    "\n",
    "import re\n",
    "from numba import jit\n",
    "import gc\n",
    "from itertools import chain\n",
    "import random\n",
    "from scipy import fftpack\n",
    "import pywt\n",
    "import scipy\n",
    "\n",
    "from sklearn.metrics import classification_report\n",
    "from sklearn.metrics import precision_score\n",
    "from sklearn.metrics import recall_score\n",
    "\n",
    "from multiprocessing import cpu_count\n",
    "from sklearn.model_selection import train_test_split\n",
    "from sklearn.preprocessing import LabelEncoder, StandardScaler\n",
    "\n",
    "import torch\n",
    "from torch import nn\n",
    "from torch import optim\n",
    "from torch.nn import functional as F\n",
    "from torch.optim.lr_scheduler import _LRScheduler\n",
    "from torch.utils.data import TensorDataset, DataLoader\n",
    "from scipy.fft import fft, ifft\n",
    "from scipy.fft import fftfreq\n",
    "import sklearn\n",
    "from utils.util_functions import *\n",
    "from scipy.signal import butter, lfilter, filtfilt\n",
    "\n",
    "try:\n",
    "    import pathlib\n",
    "except ImportError:\n",
    "    import pathlib2 as pathlib\n",
    "    \n",
    "import scipy.signal as signal\n",
    "import warnings\n",
    "warnings.simplefilter(action='ignore', category = FutureWarning)\n",
    "\n",
    "import gc\n",
    "import sys\n",
    "import os, psutil\n",
    "\n",
    "\n",
    "# R-peak detection\n",
    "@jit(nopython = True)        \n",
    "def running_mean(x, N):\n",
    "    \n",
    "    cumsum = np.cumsum(x) \n",
    "    cumsum[N:] = (cumsum[N:] - cumsum[:-N]) / float(N)\n",
    "    \n",
    "    for i in range(1, N):\n",
    "        cumsum[i-1] = cumsum[i-1] / i\n",
    "\n",
    "    return cumsum\n",
    "\n",
    "@jit(nopython = True)\n",
    "def pan_tompkins_peak(ma_sig, sRate, option):    \n",
    "\n",
    "    dist_cutoff = int(0.25*sRate)\n",
    "\n",
    "    real_peaks = [0]\n",
    "    noise_peaks = []\n",
    "\n",
    "    RR_missed = 0\n",
    "    index = 0\n",
    "    indexes = []\n",
    "\n",
    "    missed_peaks = []\n",
    "    potential_peaks = []\n",
    "    \n",
    "    SPKI = 0.0\n",
    "    NPKI = 0.0\n",
    "\n",
    "    threshold_I1 = 0.0\n",
    "    threshold_I2 = 0.0\n",
    "    \n",
    "    RR_low_limit = 0\n",
    "\n",
    "    for i in range(len(ma_sig)):\n",
    "\n",
    "        if (i > 0) & (i < len(ma_sig)-1):\n",
    "            # i should be larger than its previous and post amplitude for becoming a peak\n",
    "            if (ma_sig[i-1] < ma_sig[i]) & (ma_sig[i+1] < ma_sig[i]):\n",
    "                peak = i\n",
    "                potential_peaks.append(peak)\n",
    "                \n",
    "                # The second condition requires two neighboring peaks must be far apart 250ms each other\n",
    "                if (ma_sig[peak] > threshold_I1) & (peak-real_peaks[-1] > dist_cutoff):\n",
    "                        \n",
    "                    real_peaks.append(peak)\n",
    "                    indexes.append(index)\n",
    "                    \n",
    "                     # When the current potential peak did not satisfy the first condition for becoming a peak,\n",
    "                    # the second condition checks if the one is a peak or not again\n",
    "                    if RR_missed != 0:\n",
    "                        # This condition check if there would be a missed interval by calculating RR distance\n",
    "                        # between two neighboring peaks\n",
    "                        if real_peaks[-1] - real_peaks[-2] > RR_missed:\n",
    "                            peaks_in_missed = np.array(potential_peaks[indexes[-2]+1:indexes[-1]])\n",
    "                            \n",
    "                            pre = real_peaks[-2]\n",
    "                            current = real_peaks[-1]\n",
    "                            condition = (peaks_in_missed-pre > dist_cutoff) & (current-peaks_in_missed > dist_cutoff) & (ma_sig[peaks_in_missed] > threshold_I2)\n",
    "                            peaks_in_missed2 = peaks_in_missed[np.where(condition)]\n",
    "                            \n",
    "                            if len(peaks_in_missed2) > 0:           \n",
    "                                missed_peak = peaks_in_missed2[np.argmax(ma_sig[peaks_in_missed2])]\n",
    "                                missed_peaks.append(missed_peak)\n",
    "                                real_peaks.append(real_peaks[-1])\n",
    "                                real_peaks[-2] = missed_peak   \n",
    "                    \n",
    "                    # This part prevents the outlier peaks from distorting heavily the thresholds\n",
    "                    # If the current peak is over 10 times the threshold, threshold is not updated\n",
    "                    if (ma_sig[real_peaks[-1]] > 10*SPKI):\n",
    "                        SPKI = SPKI\n",
    "                    else:\n",
    "                        SPKI = 0.125*ma_sig[real_peaks[-1]] + 0.875*SPKI\n",
    "                        \n",
    "                else:\n",
    "                    noise_peaks.append(peak)\n",
    "                    # This part prevents the outlier peaks from distorting heavily the thresholds\n",
    "                    # If the current peak is less than 0.1 times the threshold, threshold is not updated\n",
    "                    if (ma_sig[noise_peaks[-1]] < 0.10*NPKI):\n",
    "                        NPKI = NPKI\n",
    "                    else:\n",
    "                        NPKI = 0.125*ma_sig[noise_peaks[-1]] + 0.875*NPKI\n",
    "\n",
    "                threshold_I1 = NPKI + 0.25*(SPKI-NPKI)\n",
    "                threshold_I2 = 0.5*threshold_I1\n",
    "                   \n",
    "                if option == 'origianl':\n",
    "                    if len(real_peaks) > 18:\n",
    "\n",
    "                        if RR_low_limit == 0:\n",
    "                            RR_default = np.mean(np.diff(np.array(real_peaks[:9])))\n",
    "                            RR_low_limit = 0.92 * RR_default\n",
    "                            RR_high_limit = 1.16 * RR_default\n",
    "\n",
    "                        # Exclude the outlier RR beats for the reference RR to find the missed sections\n",
    "                        RR_interval = np.diff(np.array(real_peaks[-18:]))\n",
    "                        acceptable_beats = np.where((RR_interval > RR_low_limit) & (RR_interval < RR_high_limit))[0]\n",
    "\n",
    "                        if len(acceptable_beats) > 8:\n",
    "                            RR_ave = int(np.mean(RR_interval[acceptable_beats][-9:]))\n",
    "                        elif (len(acceptable_beats) > 4) & (len(acceptable_beats) <= 8):\n",
    "                            RR_ave = int(np.mean(RR_interval[acceptable_beats]))\n",
    "                        else:\n",
    "                            RR_ave = int(np.mean(RR_interval[-9:]))\n",
    "\n",
    "                        RR_missed = int(1.66*RR_ave)\n",
    "                        RR_low_limit = 0.92 * RR_ave\n",
    "                        RR_high_limit = 1.16 * RR_ave\n",
    "                else:\n",
    "                    if len(real_peaks) > 8:\n",
    "                        RR_interval = np.diff(np.array(real_peaks[-9:]))\n",
    "                        RR_ave = int(np.mean(RR_interval))\n",
    "                        RR_missed = int(1.66*RR_ave)\n",
    "                \n",
    "                index = index+1      \n",
    "    \n",
    "    real_peaks.pop(0)\n",
    "\n",
    "    return real_peaks    \n",
    "\n",
    "def pan_tompkins_detector(filtered_ecg, option, sRate, low_pass, high_pass):\n",
    "        \n",
    "#         filtered_ecg = calc_lp(filtered_ecg, 4, 3)\n",
    "        b, a = butter(1, [5/150, 15/150], btype='band')\n",
    "        filtered_ecg = filtfilt(b, a, filtered_ecg)\n",
    "        \n",
    "        diff = np.diff(filtered_ecg) \n",
    "        diff = np.append(diff[0], diff)\n",
    "        squared = diff*diff\n",
    "        \n",
    "        N = int(0.12*sRate)\n",
    "        units = running_mean(squared, N)\n",
    "        units[:int(0.2*sRate)] = 0\n",
    "\n",
    "        peaks_array = pan_tompkins_peak(units, sRate, option)\n",
    "\n",
    "        return peaks_array\n",
    "    \n",
    "@jit(nopython = True)\n",
    "def elgendi_peak(filtered_ecg, start, end, sRate):\n",
    "    qrs_array = []\n",
    "    for i in range(len(start)):\n",
    "        if end[i] - start[i] > int(0.08*sRate):\n",
    "            potential_peak = np.argmax(filtered_ecg[start[i]:end[i]+1])+start[i]\n",
    "            if qrs_array:\n",
    "                if potential_peak - qrs_array[-1] > int(0.3*sRate):\n",
    "                    qrs_array.append(potential_peak)\n",
    "            else:\n",
    "                qrs_array.append(potential_peak)\n",
    "    return qrs_array\n",
    "\n",
    "def elgendi_detector(filtered_ecg, sRate, low_pass, high_pass):\n",
    "    \n",
    "    b, a = butter(2, [8/150, 20/150], btype='band')\n",
    "    filtered_ecg = filtfilt(b, a, filtered_ecg)\n",
    "#     squared = filtered_ecg * filtered_ecg\n",
    "    diff = np.diff(filtered_ecg) \n",
    "    diff = np.append(diff[0], diff)\n",
    "    squared = diff*diff\n",
    "    \n",
    "    diff = np.diff(squared) \n",
    "    diff = np.append(diff[0], diff)\n",
    "    squared = diff*diff\n",
    "    \n",
    "#     squared = filtered_ecg * filtered_ecg\n",
    "       \n",
    "    short_range = int(0.12*sRate)\n",
    "    mwa_short2 = running_mean(abs(squared), short_range)\n",
    "    mwa_short = running_mean(abs(filtered_ecg), short_range)\n",
    "\n",
    "    long_range = int(0.6*sRate)\n",
    "    mwa_long2 = running_mean(abs(squared), long_range)\n",
    "    mwa_long = running_mean(abs(filtered_ecg), long_range)\n",
    "\n",
    "    blocks = np.zeros(len(filtered_ecg))\n",
    "    block_max = np.nanmax(filtered_ecg)\n",
    "\n",
    "    blocks[np.where((mwa_short > mwa_long) & (mwa_short2 > mwa_long2))] = block_max\n",
    "    lead_first = blocks[0]\n",
    "    lead_last = blocks[-1]\n",
    "    blocks_lead = np.roll(blocks, 1)\n",
    "    blocks_lead[0] = lead_first\n",
    "    blocks_lead[-1] = lead_last\n",
    "    block_max_col = np.full(blocks.shape, block_max)\n",
    "\n",
    "    block_matrix = np.c_[blocks_lead, blocks]\n",
    "    start = list(np.where(block_matrix[:,0] < block_matrix[:,1]))\n",
    "    start = start[0]\n",
    "    start = start[:-2]\n",
    "    end = list(np.where(block_matrix[:,0] > block_matrix[:,1]))\n",
    "    end = end[0]-1\n",
    "\n",
    "    QRS = elgendi_peak(filtered_ecg, start, end, sRate)\n",
    "\n",
    "    return QRS\n",
    "\n",
    "\n",
    "\n",
    "def fix_wide_rr(pan, elgendi, cutoff_rr):\n",
    "    pan = np.array(pan)\n",
    "    elgendi = np.array(elgendi)\n",
    "    \n",
    "    if len(pan > 0):\n",
    "        pan_lag = np.roll(pan, 1)\n",
    "        pan_lag[0] = 0\n",
    "        rr_pre = pan - pan_lag # This is RR interval\n",
    "        location_post = np.array(np.where(rr_pre > cutoff_rr)[0])\n",
    "        location_pre = location_post - 1\n",
    "\n",
    "        A = [np.where((pan[location_pre[i]] < elgendi) & (pan[location_post[i]] > elgendi))[0] \n",
    "             for i in range(len(location_post))] \n",
    "        \n",
    "        # \"supplements\" are the location of R-peaks that Pan missed & Elgendi found\n",
    "        supplements = np.array([item for l in  A for item in l])\n",
    "        if len(supplements) > 0:\n",
    "            rpeaks = np.concatenate((pan, elgendi[supplements]))\n",
    "            rpeaks = list(set(rpeaks))\n",
    "            rpeaks.sort()\n",
    "        else:\n",
    "            rpeaks = pan\n",
    "    else:\n",
    "        rpeaks = elgendi\n",
    "\n",
    "    return rpeaks  \n",
    "\n",
    "def pan_elgendi(band_signal, sRate, cutoff_wide, option):\n",
    "    \n",
    "    # Apply Pan and Elgendi algorithms to the band_passed signal\n",
    "    pan = pan_tompkins_detector(band_signal, option, sRate = sRate, low_pass=4, high_pass=3)\n",
    "    elgendi = elgendi_detector(band_signal, sRate = sRate, low_pass=4, high_pass=3)\n",
    "    \n",
    "    # If Pan missed the R-peaks, we supplement these with the R-peaks which were found by Elgendi\n",
    "    # \"Cutoff_wide\" is the criteria to decide missing R-peaks \n",
    "    if len(pan) > 0 or len(elgendi) > 0:\n",
    "        rpeak = fix_wide_rr(pan, elgendi, cutoff_wide) \n",
    "    else:\n",
    "        rpeak = []\n",
    "#     rpeak = pan\n",
    "    return np.array(rpeak)\n",
    "\n",
    "# This process is the second round to find R-peaks\n",
    "# If there are long intervals with missed R-peaks, we find the R-peaks within those intervals\n",
    "def qrs_first_round(raw_signal, sRate, cutoff_wide, num_threads, option):\n",
    "    print('Start First Round!')\n",
    "    # Split the raw signal into the number of threads for parallel computing\n",
    "    # Each splitted signal should be greater than 100000 samples to find R-peaks\n",
    "    x = int(len(raw_signal)/100000)\n",
    "    cutoff = np.linspace(1, len(raw_signal), num_threads, dtype = int)\n",
    "    cutoff = np.delete(cutoff, [0, len(cutoff)-1])\n",
    "   \n",
    "    splitted_signal = np.split(raw_signal, cutoff)\n",
    "   \n",
    "    x = []\n",
    "    for i in range(len(splitted_signal)):\n",
    "        x.append(pan_elgendi(splitted_signal[i], sRate, cutoff_wide, option))\n",
    "\n",
    "    # The starting location of each splitted signal should be added\n",
    "    y = [x[w] + cutoff[w-1] for w in range(len(x)) if w > 0]\n",
    "    y = np.concatenate(y, axis = 0)\n",
    "    rpeaks = np.concatenate((x[0], y), axis = 0)\n",
    "\n",
    "#     rpeaks = pan_elgendi(raw_signal, sRate, cutoff_wide)\n",
    "\n",
    "    return rpeaks\n",
    "\n",
    "def qrs_second_round(raw_signal, rpeaks, sRate, cutoff_wide, option):\n",
    "    print('Start Second Round!')\n",
    "    all_peaks = rpeaks.tolist()\n",
    "    sub_signals = []\n",
    "    \n",
    "    for i in range(0, 5):\n",
    "        all_peaks.sort()\n",
    "        anno_est = np.array(all_peaks, dtype = np.int32)\n",
    "        x = anno_est - np.roll(anno_est, 1) \n",
    "        x[0] = 300\n",
    "        wide_end = anno_est[np.where(x > sRate*3)]\n",
    "        wide_start = anno_est[np.where(x > sRate*3)[0] - 1]\n",
    "        \n",
    "        rpeak_big_array = []\n",
    "        for j in range(len(wide_start)):\n",
    "            signal_sub = np.array(raw_signal[wide_start[j]:wide_end[j]])\n",
    "            sub_signals.append(signal_sub)\n",
    "            rpeak = pan_elgendi(signal_sub, sRate, cutoff_wide, option)\n",
    "\n",
    "            if len(rpeak) > 0:\n",
    "                rpeak = rpeak + wide_start[j]\n",
    "                rpeak_big_array.append(rpeak)\n",
    "\n",
    "        missing = list(chain(*rpeak_big_array))\n",
    "        \n",
    "        if len(missing) > 0:\n",
    "            all_peaks = all_peaks + missing\n",
    "    all_peaks.sort()\n",
    "\n",
    "    return all_peaks\n",
    "# This moves the approximate R-peaks to the correct location\n",
    "def correct_peak(filtered_signal, qrs_array, sRate, size):\n",
    "    peaks = np.array(qrs_array)\n",
    "    peaks = peaks[np.where(peaks > size)]\n",
    "    \n",
    "    ecg_big_array = cut_signal(filtered_signal, peaks, size)\n",
    "    max_per_window = [np.argmax(np.abs(w)) for w in ecg_big_array]\n",
    "    max_per_window = np.asarray(max_per_window)\n",
    "    addings = peaks[:]\n",
    "    addings = [w-size for w in addings]\n",
    "    addings = np.asarray(addings)\n",
    "    max_per_window = np.add(max_per_window, addings)\n",
    "\n",
    "    return max_per_window\n",
    "\n",
    "def correct_peak_min(filtered_signal, qrs_array, sRate, size):\n",
    "    peaks = np.array(qrs_array)\n",
    "    peaks = peaks[np.where(peaks > size)]\n",
    "    \n",
    "    flag = np.sign(filtered_signal[peaks])\n",
    "    \n",
    "    ecg_big_array = cut_signal(filtered_signal, peaks, size)\n",
    "    max_per_window = [np.argmin(w) if v == 1 else np.argmax(w) for w, v in zip(ecg_big_array, flag)]\n",
    "    max_per_window = np.asarray(max_per_window)\n",
    "    addings = peaks[:]\n",
    "    addings = [w-size for w in addings]\n",
    "    addings = np.asarray(addings)\n",
    "    max_per_window = np.add(max_per_window, addings)\n",
    "\n",
    "    return max_per_window\n",
    "\n",
    "def remove_amplitude(filtered_signal, rpeak, sRate):\n",
    "\n",
    "    rpeak = np.array(correct_peak(filtered_signal, rpeak, sRate, 20))\n",
    "    amp_array1 = np.array(filtered_signal[rpeak])\n",
    "    rpeak_low = np.array(correct_peak_min(filtered_signal, rpeak, sRate, 20))\n",
    "    amp_array2 = filtered_signal[rpeak_low]\n",
    "    \n",
    "    amp_array = np.abs(amp_array1 - amp_array2)\n",
    "   \n",
    "    remove = np.where(amp_array < 0.06)[0]\n",
    "\n",
    "    return np.array(remove)\n",
    "\n",
    "# This removes false R-peaks by its amplitude of slope\n",
    "def remove_too_small(filtered_signal, rpeaks_array, cutoff_peak, sRate):\n",
    "\n",
    "    filtered_signal  = np.absolute(filtered_signal) \n",
    "    too_small = np.where(filtered_signal[rpeaks_array] < cutoff_peak)[0]\n",
    "    rpeak_corrected = np.delete(rpeaks_array, too_small)\n",
    "    \n",
    "    return rpeak_corrected\n",
    "\n",
    "def correct_too_narrow(ecg1, rpeaks_array, sRate):\n",
    "\n",
    "    rpeak_lag = np.roll(rpeaks_array, 1)\n",
    "    \n",
    "    rpeak_lag[0] = 0\n",
    "    rr_pre = rpeaks_array - rpeak_lag\n",
    "    location_after = np.array(np.where(rr_pre < sRate*0.20)[0])\n",
    "    location_before = location_after - 1\n",
    "    rpeak_before = rpeaks_array[location_before]\n",
    "    rpeak_after = rpeaks_array[location_after]\n",
    "    ecg1 = np.diff(ecg1)\n",
    "    ecg1 = np.absolute(ecg1)\n",
    "\n",
    "    if len(rpeak_before) > 0:\n",
    "        \n",
    "        ecg_narrow_big_array1 = np.asarray([np.nanmean(ecg1[x-2:x+2]) for x in rpeak_before])\n",
    "        ecg_narrow_big_array2 = np.asarray([np.nanmean(ecg1[x-2:x+2]) for x in rpeak_after])\n",
    "        \n",
    "        remove2 =  rpeak_after[ecg_narrow_big_array1 - ecg_narrow_big_array2 > 0]\n",
    "        remove1 =  rpeak_before[ecg_narrow_big_array1 - ecg_narrow_big_array2 < 0]\n",
    "\n",
    "        rpeak_remove = np.concatenate((remove1, remove2))\n",
    "        rpeak_corrected = np.setdiff1d(rpeaks_array,rpeak_remove)\n",
    "    else:\n",
    "        rpeak_corrected = rpeaks_array\n",
    "    \n",
    "    return rpeak_corrected\n",
    "\n",
    "# Main function\n",
    "def rpeak_final(raw_signal, filtered_signal, sRate, cutoff_wide, \n",
    "                cutoff_height, search_window2, num_threads, option):\n",
    "     \n",
    "    diff = np.diff(filtered_signal)\n",
    "    squared = diff*diff\n",
    "    diff = np.diff(squared)\n",
    "    squared2 = diff*diff\n",
    "    \n",
    "    rpeaks = qrs_first_round(raw_signal, sRate, cutoff_wide, num_threads, option)\n",
    "    rpeaks = qrs_second_round(raw_signal, rpeaks, sRate,  cutoff_wide, option)\n",
    "\n",
    "    rpeaks = correct_peak(squared2, rpeaks, sRate, search_window2)\n",
    "    remove = remove_amplitude(filtered_signal, rpeaks, sRate)\n",
    "    \n",
    "    rpeaks = np.delete(rpeaks, remove)\n",
    "    \n",
    "    rpeaks = remove_too_small(squared, rpeaks, cutoff_height, sRate)\n",
    "#     rnew = rpeaks.copy()\n",
    "    rnew = correct_too_narrow(filtered_signal, rpeaks, sRate)\n",
    "    rnew = correct_too_narrow(filtered_signal, rnew, sRate)\n",
    "    rnew = correct_too_narrow(filtered_signal, rnew, sRate)\n",
    "\n",
    "\n",
    "    return rnew\n",
    "\n",
    "def calc_lp(signal, low, high):\n",
    "    n = len(signal)\n",
    "    approxi = pywt.downcoef('a', signal, 'db4', level=low)\n",
    "    baseline = pywt.upcoef('a', approxi, 'db4', level=low, take=n)\n",
    "    \n",
    "    approxi = pywt.downcoef('a', signal, 'db4', level=high)\n",
    "    upper = pywt.upcoef('a', approxi, 'db4', level=high, take=n)\n",
    "    return upper - baseline\n",
    "def find_nearest(array, value):\n",
    "    array = np.asarray(array)\n",
    "    idx = (np.abs(array - value)).argmin()\n",
    "    return array[idx]\n",
    "\n",
    "\n"
   ]
  },
  {
   "cell_type": "code",
   "execution_count": null,
   "metadata": {
    "ExecuteTime": {
     "end_time": "2022-06-09T04:13:06.512993Z",
     "start_time": "2022-06-09T04:13:00.737348Z"
    }
   },
   "outputs": [],
   "source": [
    "filtered_signal = calc_lp(sig, 8, 1)"
   ]
  },
  {
   "cell_type": "code",
   "execution_count": null,
   "metadata": {
    "ExecuteTime": {
     "start_time": "2022-06-09T04:13:15.221Z"
    }
   },
   "outputs": [],
   "source": [
    "x = rpeak_final(sig, filtered_signal, 250, 250, \n",
    "                0.000025, 70, 29, 'a')"
   ]
  },
  {
   "cell_type": "code",
   "execution_count": null,
   "metadata": {
    "ExecuteTime": {
     "start_time": "2022-06-09T04:13:16.288Z"
    }
   },
   "outputs": [],
   "source": [
    "an_all = pd.DataFrame({'pos': x, 'target': 'N'})\n",
    "an_all['rr_pre'] = an_all['pos'] - np.roll(an_all['pos'], 1)\n",
    "an_all['rr_pre'][0] = 300\n",
    "an_all['rr_post'] = np.roll(an_all['pos'], -1) - an_all['pos'] \n",
    "an_all['rr_post'][len(an_all)-1] = 300\n",
    "an_all['rr_ratio'] = an_all['rr_pre'] / an_all['rr_post']"
   ]
  },
  {
   "cell_type": "code",
   "execution_count": null,
   "metadata": {
    "ExecuteTime": {
     "end_time": "2022-06-08T05:38:01.512572Z",
     "start_time": "2022-06-08T05:38:01.504959Z"
    }
   },
   "outputs": [],
   "source": [
    "len(x)"
   ]
  },
  {
   "cell_type": "code",
   "execution_count": null,
   "metadata": {
    "ExecuteTime": {
     "end_time": "2022-06-08T04:39:26.152424Z",
     "start_time": "2022-06-08T04:39:26.148745Z"
    }
   },
   "outputs": [],
   "source": [
    "from scipy.signal import butter, lfilter, filtfilt\n",
    "import re\n",
    "from numba import jit\n",
    "import gc\n",
    "from itertools import chain\n",
    "import random\n",
    "from scipy import fftpack\n",
    "import scipy"
   ]
  },
  {
   "cell_type": "code",
   "execution_count": null,
   "metadata": {
    "ExecuteTime": {
     "end_time": "2022-06-08T04:51:40.155627Z",
     "start_time": "2022-06-08T04:49:19.749551Z"
    }
   },
   "outputs": [],
   "source": [
    "sig_noise_removed_over = scipy.signal.resample(sig, len(sig)*2)"
   ]
  },
  {
   "cell_type": "code",
   "execution_count": null,
   "metadata": {
    "ExecuteTime": {
     "end_time": "2022-06-08T04:51:48.607120Z",
     "start_time": "2022-06-08T04:51:40.157494Z"
    }
   },
   "outputs": [],
   "source": [
    "filtered_signal = calc_lp(sig_noise_removed_over, 8, 1)"
   ]
  },
  {
   "cell_type": "code",
   "execution_count": null,
   "metadata": {
    "ExecuteTime": {
     "end_time": "2022-06-08T04:53:20.270866Z",
     "start_time": "2022-06-08T04:51:48.609048Z"
    }
   },
   "outputs": [],
   "source": [
    "x = rpeak_final(sig_noise_removed_over, filtered_signal, 300, 450, \n",
    "                0.000000000000000025, 70, 29, 'a')"
   ]
  },
  {
   "cell_type": "code",
   "execution_count": null,
   "metadata": {
    "ExecuteTime": {
     "end_time": "2022-06-08T04:53:20.347019Z",
     "start_time": "2022-06-08T04:53:20.272681Z"
    }
   },
   "outputs": [],
   "source": [
    "an_all = pd.DataFrame({'pos': x, 'target': 'N'})\n",
    "an_all['rr_pre'] = an_all['pos'] - np.roll(an_all['pos'], 1)\n",
    "an_all['rr_pre'][0] = 300\n",
    "an_all['rr_post'] = np.roll(an_all['pos'], -1) - an_all['pos'] \n",
    "an_all['rr_post'][len(an_all)-1] = 300\n",
    "an_all['rr_ratio'] = an_all['rr_pre'] / an_all['rr_post']"
   ]
  },
  {
   "cell_type": "code",
   "execution_count": null,
   "metadata": {
    "ExecuteTime": {
     "end_time": "2022-06-08T05:38:42.674525Z",
     "start_time": "2022-06-08T05:38:42.420041Z"
    }
   },
   "outputs": [],
   "source": [
    "center = random.choice(np.array(an_all.pos))\n",
    "plot_rpeak_window(sig_noise_removed_over, an_all, center, 2000, 'a', 'a')\n",
    "center = center + 5000"
   ]
  },
  {
   "cell_type": "code",
   "execution_count": null,
   "metadata": {},
   "outputs": [],
   "source": []
  },
  {
   "cell_type": "code",
   "execution_count": null,
   "metadata": {},
   "outputs": [],
   "source": []
  },
  {
   "cell_type": "code",
   "execution_count": null,
   "metadata": {},
   "outputs": [],
   "source": []
  },
  {
   "cell_type": "code",
   "execution_count": null,
   "metadata": {},
   "outputs": [],
   "source": []
  },
  {
   "cell_type": "code",
   "execution_count": null,
   "metadata": {},
   "outputs": [],
   "source": []
  },
  {
   "cell_type": "code",
   "execution_count": null,
   "metadata": {},
   "outputs": [],
   "source": []
  },
  {
   "cell_type": "code",
   "execution_count": null,
   "metadata": {},
   "outputs": [],
   "source": []
  },
  {
   "cell_type": "code",
   "execution_count": null,
   "metadata": {},
   "outputs": [],
   "source": []
  },
  {
   "cell_type": "code",
   "execution_count": null,
   "metadata": {},
   "outputs": [],
   "source": []
  }
 ],
 "metadata": {
  "kernelspec": {
   "display_name": "Python 3",
   "language": "python",
   "name": "python3"
  },
  "language_info": {
   "codemirror_mode": {
    "name": "ipython",
    "version": 3
   },
   "file_extension": ".py",
   "mimetype": "text/x-python",
   "name": "python",
   "nbconvert_exporter": "python",
   "pygments_lexer": "ipython3",
   "version": "3.6.9"
  }
 },
 "nbformat": 4,
 "nbformat_minor": 4
}
